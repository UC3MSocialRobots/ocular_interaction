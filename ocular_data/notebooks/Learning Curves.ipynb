{
 "cells": [
  {
   "cell_type": "code",
   "execution_count": 1,
   "metadata": {
    "collapsed": false
   },
   "outputs": [
    {
     "name": "stdout",
     "output_type": "stream",
     "text": [
      "Populating the interactive namespace from numpy and matplotlib\n"
     ]
    }
   ],
   "source": [
    "from __future__ import division\n",
    "import numpy as np\n",
    "import pandas as pd\n",
    "from scipy.stats import sem\n",
    "\n",
    "import seaborn as sns\n",
    "#sns.set_style(\"white\")\n",
    "sns.set_style(\"dark\")\n",
    "sns.set_context(\"paper\")\n",
    "\n",
    "%pylab inline"
   ]
  },
  {
   "cell_type": "code",
   "execution_count": 2,
   "metadata": {
    "collapsed": false
   },
   "outputs": [],
   "source": [
    "categories = {0: 'pelota', 1: 'perro', 2: 'taza', 3: 'tractor'}\n",
    "#rcategories = {v: k for (k, v) in categories}\n",
    "rcategories = {'pelota': 0, 'perro': 1, 'taza': 2, 'tractor': 3}"
   ]
  },
  {
   "cell_type": "code",
   "execution_count": 3,
   "metadata": {
    "collapsed": false
   },
   "outputs": [],
   "source": [
    "views1 = pd.read_csv('../data/results_1_view.csv')\n",
    "views5 = pd.read_csv('../data/results_5_views.csv')\n",
    "views10 = pd.read_csv('../data/results_10_views.csv')\n",
    "views15 = pd.read_csv('../data/results_15_views.csv')\n",
    "views20 = pd.read_csv('../data/results_20_views.csv')\n",
    "data = pd.read_csv('../data/summary_data.csv')\n"
   ]
  },
  {
   "cell_type": "code",
   "execution_count": 4,
   "metadata": {
    "collapsed": true
   },
   "outputs": [],
   "source": [
    "FIELDS = ['RGB', 'PCloud', 'Combined']\n",
    "VIEWS = [1, 10, 20]\n",
    "#VIEWS = [1, 5, 10, 15, 20]\n",
    "#results = (views1, views5, views10, views15, data)\n",
    "results = (views1, views10, data)\n"
   ]
  },
  {
   "cell_type": "code",
   "execution_count": 5,
   "metadata": {
    "collapsed": false
   },
   "outputs": [
    {
     "name": "stdout",
     "output_type": "stream",
     "text": [
      "            item  pred_combined   pred_rgb  pred_pcloud  entropy_rgb  \\\n",
      "count  89.000000      89.000000  89.000000    89.000000    89.000000   \n",
      "mean   44.000000       1.157303   1.438202     0.741573     0.869677   \n",
      "std    25.836021       0.497696   0.673442     0.574616     0.491294   \n",
      "min     0.000000       0.000000   1.000000     0.000000    -0.000000   \n",
      "25%    22.000000       1.000000   1.000000     0.000000     0.468996   \n",
      "50%    44.000000       1.000000   1.000000     1.000000     0.948078   \n",
      "75%    66.000000       1.000000   2.000000     1.000000     1.286693   \n",
      "max    88.000000       3.000000   3.000000     2.000000     1.664853   \n",
      "\n",
      "       entropy_pcloud  margin_rgb  margin_pcloud        jsd  \n",
      "count       89.000000   82.000000      67.000000  89.000000  \n",
      "mean         0.618434   14.378049      12.910448   0.405736  \n",
      "std          0.407633    9.239796       7.751308   0.266147  \n",
      "min         -0.000000    0.000000       0.000000   0.000000  \n",
      "25%          0.210842    8.000000       7.500000   0.197261  \n",
      "50%          0.721928   13.000000      12.000000   0.344194  \n",
      "75%          0.948078   23.000000      20.000000   0.573118  \n",
      "max          1.373017   28.000000      28.000000   1.000000  \n",
      "\n",
      "-------------------------------------------------------------------------\n",
      "\n",
      "            item  pred_combined  pred_rgb  pred_pcloud  entropy_rgb  \\\n",
      "count  75.000000      75.000000  75.00000    75.000000    75.000000   \n",
      "mean   37.000000       0.546667   0.56000     1.293333     0.550720   \n",
      "std    21.794495       0.919655   0.96198     0.881849     0.550825   \n",
      "min     0.000000       0.000000   0.00000     0.000000    -0.000000   \n",
      "25%    18.500000       0.000000   0.00000     1.000000    -0.000000   \n",
      "50%    37.000000       0.000000   0.00000     1.000000     0.560825   \n",
      "75%    55.500000       1.000000   1.50000     2.000000     0.967608   \n",
      "max    74.000000       3.000000   3.00000     3.000000     1.752912   \n",
      "\n",
      "       entropy_pcloud  margin_rgb  margin_pcloud        jsd  \n",
      "count       75.000000   46.000000      74.000000  75.000000  \n",
      "mean         1.195665   16.652174       9.378378   0.452959  \n",
      "std          0.443794    7.961623       7.530218   0.272825  \n",
      "min         -0.000000    0.000000       0.000000   0.016870  \n",
      "25%          0.976271   12.000000       4.000000   0.235673  \n",
      "50%          1.212059   17.000000       7.000000   0.370507  \n",
      "75%          1.536961   23.750000      13.000000   0.669412  \n",
      "max          1.898930   28.000000      28.000000   1.000000  \n",
      "\n",
      "-------------------------------------------------------------------------\n",
      "\n",
      "            item  pred_combined   pred_rgb  pred_pcloud  entropy_rgb  \\\n",
      "count  38.000000      38.000000  38.000000    38.000000    38.000000   \n",
      "mean   18.500000       1.526316   1.657895     1.210526     0.654488   \n",
      "std    11.113055       1.032887   0.937977     1.118829     0.585092   \n",
      "min     0.000000       0.000000   0.000000     0.000000    -0.000000   \n",
      "25%     9.250000       1.000000   1.000000     0.000000     0.052711   \n",
      "50%    18.500000       1.000000   1.500000     1.000000     0.559509   \n",
      "75%    27.750000       2.000000   2.000000     2.000000     1.094880   \n",
      "max    37.000000       3.000000   3.000000     3.000000     1.879936   \n",
      "\n",
      "       entropy_pcloud  margin_rgb  margin_pcloud        jsd  \n",
      "count       38.000000   28.000000      34.000000  38.000000  \n",
      "mean         1.250784   16.571429       8.823529   0.467272  \n",
      "std          0.550188    8.288451       5.900542   0.211509  \n",
      "min         -0.000000    1.000000       1.000000   0.003852  \n",
      "25%          1.062525    9.750000       4.000000   0.328821  \n",
      "50%          1.289038   16.000000       7.000000   0.462371  \n",
      "75%          1.585963   26.000000      14.000000   0.627871  \n",
      "max          2.004310   28.000000      21.000000   1.000000  \n",
      "\n",
      "-------------------------------------------------------------------------\n",
      "\n"
     ]
    }
   ],
   "source": [
    "for res in results:\n",
    "    print res.describe()\n",
    "    print \"\\n-------------------------------------------------------------------------\\n\""
   ]
  },
  {
   "cell_type": "markdown",
   "metadata": {},
   "source": [
    "Set Numeric categories instead of labelled ones"
   ]
  },
  {
   "cell_type": "code",
   "execution_count": 6,
   "metadata": {
    "collapsed": false
   },
   "outputs": [],
   "source": [
    "for res in results:\n",
    "    res.y = res.y.apply(lambda x: rcategories[x])"
   ]
  },
  {
   "cell_type": "code",
   "execution_count": 7,
   "metadata": {
    "collapsed": false,
    "scrolled": true
   },
   "outputs": [
    {
     "data": {
      "text/html": [
       "<div style=\"max-height:1000px;max-width:1500px;overflow:auto;\">\n",
       "<table border=\"1\" class=\"dataframe\">\n",
       "  <thead>\n",
       "    <tr style=\"text-align: right;\">\n",
       "      <th></th>\n",
       "      <th>0</th>\n",
       "      <th>1</th>\n",
       "      <th>2</th>\n",
       "      <th>3</th>\n",
       "      <th>4</th>\n",
       "      <th>5</th>\n",
       "      <th>6</th>\n",
       "      <th>7</th>\n",
       "      <th>8</th>\n",
       "      <th>9</th>\n",
       "      <th>...</th>\n",
       "      <th>65</th>\n",
       "      <th>66</th>\n",
       "      <th>67</th>\n",
       "      <th>68</th>\n",
       "      <th>69</th>\n",
       "      <th>70</th>\n",
       "      <th>71</th>\n",
       "      <th>72</th>\n",
       "      <th>73</th>\n",
       "      <th>74</th>\n",
       "    </tr>\n",
       "  </thead>\n",
       "  <tbody>\n",
       "    <tr>\n",
       "      <th>y</th>\n",
       "      <td>0</td>\n",
       "      <td>0</td>\n",
       "      <td>0</td>\n",
       "      <td>0</td>\n",
       "      <td>0</td>\n",
       "      <td>0</td>\n",
       "      <td>0</td>\n",
       "      <td>0</td>\n",
       "      <td>0</td>\n",
       "      <td>0</td>\n",
       "      <td>...</td>\n",
       "      <td>2</td>\n",
       "      <td>2</td>\n",
       "      <td>2</td>\n",
       "      <td>2</td>\n",
       "      <td>2</td>\n",
       "      <td>2</td>\n",
       "      <td>2</td>\n",
       "      <td>2</td>\n",
       "      <td>2</td>\n",
       "      <td>2</td>\n",
       "    </tr>\n",
       "    <tr>\n",
       "      <th>pred_combined</th>\n",
       "      <td>0</td>\n",
       "      <td>0</td>\n",
       "      <td>0</td>\n",
       "      <td>0</td>\n",
       "      <td>0</td>\n",
       "      <td>0</td>\n",
       "      <td>0</td>\n",
       "      <td>0</td>\n",
       "      <td>0</td>\n",
       "      <td>0</td>\n",
       "      <td>...</td>\n",
       "      <td>2</td>\n",
       "      <td>2</td>\n",
       "      <td>2</td>\n",
       "      <td>2</td>\n",
       "      <td>2</td>\n",
       "      <td>2</td>\n",
       "      <td>2</td>\n",
       "      <td>2</td>\n",
       "      <td>2</td>\n",
       "      <td>2</td>\n",
       "    </tr>\n",
       "  </tbody>\n",
       "</table>\n",
       "<p>2 rows × 75 columns</p>\n",
       "</div>"
      ],
      "text/plain": [
       "               0   1   2   3   4   5   6   7   8   9  ...  65  66  67  68  69  \\\n",
       "y               0   0   0   0   0   0   0   0   0   0 ...   2   2   2   2   2   \n",
       "pred_combined   0   0   0   0   0   0   0   0   0   0 ...   2   2   2   2   2   \n",
       "\n",
       "               70  71  72  73  74  \n",
       "y               2   2   2   2   2  \n",
       "pred_combined   2   2   2   2   2  \n",
       "\n",
       "[2 rows x 75 columns]"
      ]
     },
     "execution_count": 7,
     "metadata": {},
     "output_type": "execute_result"
    }
   ],
   "source": [
    "views10.ix[:, 1:3].T"
   ]
  },
  {
   "cell_type": "markdown",
   "metadata": {},
   "source": [
    "Clean margin NaN"
   ]
  },
  {
   "cell_type": "code",
   "execution_count": 8,
   "metadata": {
    "collapsed": true
   },
   "outputs": [],
   "source": [
    "for res in results:\n",
    "    res.margin_rgb.fillna(30, inplace=True)\n",
    "    res.margin_pcloud.fillna(30, inplace=True)"
   ]
  },
  {
   "cell_type": "markdown",
   "metadata": {},
   "source": [
    "#  Metrics"
   ]
  },
  {
   "cell_type": "markdown",
   "metadata": {},
   "source": [
    "## F1-Score and Accuracy"
   ]
  },
  {
   "cell_type": "code",
   "execution_count": 9,
   "metadata": {
    "collapsed": true
   },
   "outputs": [],
   "source": [
    "from sklearn.metrics import f1_score, accuracy_score"
   ]
  },
  {
   "cell_type": "code",
   "execution_count": 10,
   "metadata": {
    "collapsed": false
   },
   "outputs": [
    {
     "name": "stdout",
     "output_type": "stream",
     "text": [
      "Accuracy Combined: \t0.47191011236\n",
      "Accuracy RGB: \t\t0.516853932584\n",
      "Accuracy PCloud: \t0.247191011236\n",
      "--------------------------------------\n",
      "\n",
      "Accuracy Combined: \t0.373333333333\n",
      "Accuracy RGB: \t\t0.36\n",
      "Accuracy PCloud: \t0.44\n",
      "--------------------------------------\n",
      "\n",
      "Accuracy Combined: \t0.815789473684\n",
      "Accuracy RGB: \t\t0.763157894737\n",
      "Accuracy PCloud: \t0.289473684211\n",
      "--------------------------------------\n",
      "\n"
     ]
    }
   ],
   "source": [
    "for res in results:\n",
    "    print \"Accuracy Combined: \\t\", accuracy_score(res.y, res.pred_combined)\n",
    "    print \"Accuracy RGB: \\t\\t\", accuracy_score(res.y, res.pred_rgb)\n",
    "    print \"Accuracy PCloud: \\t\", accuracy_score(res.y, res.pred_pcloud)\n",
    "    print \"--------------------------------------\\n\"\n",
    "    "
   ]
  },
  {
   "cell_type": "code",
   "execution_count": 11,
   "metadata": {
    "collapsed": true
   },
   "outputs": [],
   "source": [
    "def get_metric(results, metric):\n",
    "    rgb = []\n",
    "    pcloud = []\n",
    "    combined = []\n",
    "    for res in results:\n",
    "        rgb.append(metric(res.y, res.pred_rgb))\n",
    "        pcloud.append(metric(res.y, res.pred_pcloud))\n",
    "        combined.append(metric(res.y, res.pred_combined))\n",
    "    return pd.DataFrame([rgb, pcloud, combined], index=FIELDS, columns=VIEWS)\n",
    "\n",
    "def print_metric(results, metric, separator='\\t'):\n",
    "    for res in results:\n",
    "        print metric.__name__, \"Combined:\", separator, metric(res.y, res.pred_combined)\n",
    "        print metric.__name__, \"RGB:\", separator, metric(res.y, res.pred_rgb)\n",
    "        print metric.__name__, \"PCloud:t\", separator, metric(res.y, res.pred_pcloud)\n",
    "        print \"--------------------------------------\\n\"\n",
    "        "
   ]
  },
  {
   "cell_type": "code",
   "execution_count": 12,
   "metadata": {
    "collapsed": false
   },
   "outputs": [
    {
     "name": "stdout",
     "output_type": "stream",
     "text": [
      "f1_score Combined: \t0.375909083685\n",
      "f1_score RGB: \t0.440498290181\n",
      "f1_score PCloud:t \t0.238319342202\n",
      "--------------------------------------\n",
      "\n",
      "f1_score Combined: \t0.303701631702\n",
      "f1_score RGB: \t0.296219336219\n",
      "f1_score PCloud:t \t0.40562925599\n",
      "--------------------------------------\n",
      "\n",
      "f1_score Combined: \t0.82347015865\n",
      "f1_score RGB: \t0.748269939138\n",
      "f1_score PCloud:t \t0.256467741362\n",
      "--------------------------------------\n",
      "\n"
     ]
    },
    {
     "name": "stderr",
     "output_type": "stream",
     "text": [
      "/Users/vgonpa/anaconda/lib/python2.7/site-packages/sklearn/metrics/classification.py:676: DeprecationWarning: The default `weighted` averaging is deprecated, and from version 0.18, use of precision, recall or F-score with multiclass or multilabel data or pos_label=None will result in an exception. Please set an explicit value for `average`, one of (None, 'micro', 'macro', 'weighted', 'samples'). In cross validation use, for instance, scoring=\"f1_weighted\" instead of scoring=\"f1\".\n",
      "  sample_weight=sample_weight)\n",
      "/Users/vgonpa/anaconda/lib/python2.7/site-packages/sklearn/metrics/classification.py:676: DeprecationWarning: The default `weighted` averaging is deprecated, and from version 0.18, use of precision, recall or F-score with multiclass or multilabel data or pos_label=None will result in an exception. Please set an explicit value for `average`, one of (None, 'micro', 'macro', 'weighted', 'samples'). In cross validation use, for instance, scoring=\"f1_weighted\" instead of scoring=\"f1\".\n",
      "  sample_weight=sample_weight)\n",
      "/Users/vgonpa/anaconda/lib/python2.7/site-packages/sklearn/metrics/classification.py:958: UndefinedMetricWarning: F-score is ill-defined and being set to 0.0 in labels with no predicted samples.\n",
      "  'precision', 'predicted', average, warn_for)\n",
      "/Users/vgonpa/anaconda/lib/python2.7/site-packages/sklearn/metrics/classification.py:676: DeprecationWarning: The default `weighted` averaging is deprecated, and from version 0.18, use of precision, recall or F-score with multiclass or multilabel data or pos_label=None will result in an exception. Please set an explicit value for `average`, one of (None, 'micro', 'macro', 'weighted', 'samples'). In cross validation use, for instance, scoring=\"f1_weighted\" instead of scoring=\"f1\".\n",
      "  sample_weight=sample_weight)\n",
      "/Users/vgonpa/anaconda/lib/python2.7/site-packages/sklearn/metrics/classification.py:676: DeprecationWarning: The default `weighted` averaging is deprecated, and from version 0.18, use of precision, recall or F-score with multiclass or multilabel data or pos_label=None will result in an exception. Please set an explicit value for `average`, one of (None, 'micro', 'macro', 'weighted', 'samples'). In cross validation use, for instance, scoring=\"f1_weighted\" instead of scoring=\"f1\".\n",
      "  sample_weight=sample_weight)\n",
      "/Users/vgonpa/anaconda/lib/python2.7/site-packages/sklearn/metrics/classification.py:676: DeprecationWarning: The default `weighted` averaging is deprecated, and from version 0.18, use of precision, recall or F-score with multiclass or multilabel data or pos_label=None will result in an exception. Please set an explicit value for `average`, one of (None, 'micro', 'macro', 'weighted', 'samples'). In cross validation use, for instance, scoring=\"f1_weighted\" instead of scoring=\"f1\".\n",
      "  sample_weight=sample_weight)\n",
      "/Users/vgonpa/anaconda/lib/python2.7/site-packages/sklearn/metrics/classification.py:676: DeprecationWarning: The default `weighted` averaging is deprecated, and from version 0.18, use of precision, recall or F-score with multiclass or multilabel data or pos_label=None will result in an exception. Please set an explicit value for `average`, one of (None, 'micro', 'macro', 'weighted', 'samples'). In cross validation use, for instance, scoring=\"f1_weighted\" instead of scoring=\"f1\".\n",
      "  sample_weight=sample_weight)\n",
      "/Users/vgonpa/anaconda/lib/python2.7/site-packages/sklearn/metrics/classification.py:676: DeprecationWarning: The default `weighted` averaging is deprecated, and from version 0.18, use of precision, recall or F-score with multiclass or multilabel data or pos_label=None will result in an exception. Please set an explicit value for `average`, one of (None, 'micro', 'macro', 'weighted', 'samples'). In cross validation use, for instance, scoring=\"f1_weighted\" instead of scoring=\"f1\".\n",
      "  sample_weight=sample_weight)\n",
      "/Users/vgonpa/anaconda/lib/python2.7/site-packages/sklearn/metrics/classification.py:676: DeprecationWarning: The default `weighted` averaging is deprecated, and from version 0.18, use of precision, recall or F-score with multiclass or multilabel data or pos_label=None will result in an exception. Please set an explicit value for `average`, one of (None, 'micro', 'macro', 'weighted', 'samples'). In cross validation use, for instance, scoring=\"f1_weighted\" instead of scoring=\"f1\".\n",
      "  sample_weight=sample_weight)\n",
      "/Users/vgonpa/anaconda/lib/python2.7/site-packages/sklearn/metrics/classification.py:676: DeprecationWarning: The default `weighted` averaging is deprecated, and from version 0.18, use of precision, recall or F-score with multiclass or multilabel data or pos_label=None will result in an exception. Please set an explicit value for `average`, one of (None, 'micro', 'macro', 'weighted', 'samples'). In cross validation use, for instance, scoring=\"f1_weighted\" instead of scoring=\"f1\".\n",
      "  sample_weight=sample_weight)\n"
     ]
    }
   ],
   "source": [
    "print_metric(results, f1_score)\n",
    "\n"
   ]
  },
  {
   "cell_type": "code",
   "execution_count": 13,
   "metadata": {
    "collapsed": false
   },
   "outputs": [
    {
     "name": "stderr",
     "output_type": "stream",
     "text": [
      "/Users/vgonpa/anaconda/lib/python2.7/site-packages/sklearn/metrics/classification.py:676: DeprecationWarning: The default `weighted` averaging is deprecated, and from version 0.18, use of precision, recall or F-score with multiclass or multilabel data or pos_label=None will result in an exception. Please set an explicit value for `average`, one of (None, 'micro', 'macro', 'weighted', 'samples'). In cross validation use, for instance, scoring=\"f1_weighted\" instead of scoring=\"f1\".\n",
      "  sample_weight=sample_weight)\n",
      "/Users/vgonpa/anaconda/lib/python2.7/site-packages/sklearn/metrics/classification.py:676: DeprecationWarning: The default `weighted` averaging is deprecated, and from version 0.18, use of precision, recall or F-score with multiclass or multilabel data or pos_label=None will result in an exception. Please set an explicit value for `average`, one of (None, 'micro', 'macro', 'weighted', 'samples'). In cross validation use, for instance, scoring=\"f1_weighted\" instead of scoring=\"f1\".\n",
      "  sample_weight=sample_weight)\n",
      "/Users/vgonpa/anaconda/lib/python2.7/site-packages/sklearn/metrics/classification.py:676: DeprecationWarning: The default `weighted` averaging is deprecated, and from version 0.18, use of precision, recall or F-score with multiclass or multilabel data or pos_label=None will result in an exception. Please set an explicit value for `average`, one of (None, 'micro', 'macro', 'weighted', 'samples'). In cross validation use, for instance, scoring=\"f1_weighted\" instead of scoring=\"f1\".\n",
      "  sample_weight=sample_weight)\n",
      "/Users/vgonpa/anaconda/lib/python2.7/site-packages/sklearn/metrics/classification.py:676: DeprecationWarning: The default `weighted` averaging is deprecated, and from version 0.18, use of precision, recall or F-score with multiclass or multilabel data or pos_label=None will result in an exception. Please set an explicit value for `average`, one of (None, 'micro', 'macro', 'weighted', 'samples'). In cross validation use, for instance, scoring=\"f1_weighted\" instead of scoring=\"f1\".\n",
      "  sample_weight=sample_weight)\n",
      "/Users/vgonpa/anaconda/lib/python2.7/site-packages/sklearn/metrics/classification.py:676: DeprecationWarning: The default `weighted` averaging is deprecated, and from version 0.18, use of precision, recall or F-score with multiclass or multilabel data or pos_label=None will result in an exception. Please set an explicit value for `average`, one of (None, 'micro', 'macro', 'weighted', 'samples'). In cross validation use, for instance, scoring=\"f1_weighted\" instead of scoring=\"f1\".\n",
      "  sample_weight=sample_weight)\n",
      "/Users/vgonpa/anaconda/lib/python2.7/site-packages/sklearn/metrics/classification.py:676: DeprecationWarning: The default `weighted` averaging is deprecated, and from version 0.18, use of precision, recall or F-score with multiclass or multilabel data or pos_label=None will result in an exception. Please set an explicit value for `average`, one of (None, 'micro', 'macro', 'weighted', 'samples'). In cross validation use, for instance, scoring=\"f1_weighted\" instead of scoring=\"f1\".\n",
      "  sample_weight=sample_weight)\n",
      "/Users/vgonpa/anaconda/lib/python2.7/site-packages/sklearn/metrics/classification.py:676: DeprecationWarning: The default `weighted` averaging is deprecated, and from version 0.18, use of precision, recall or F-score with multiclass or multilabel data or pos_label=None will result in an exception. Please set an explicit value for `average`, one of (None, 'micro', 'macro', 'weighted', 'samples'). In cross validation use, for instance, scoring=\"f1_weighted\" instead of scoring=\"f1\".\n",
      "  sample_weight=sample_weight)\n",
      "/Users/vgonpa/anaconda/lib/python2.7/site-packages/sklearn/metrics/classification.py:676: DeprecationWarning: The default `weighted` averaging is deprecated, and from version 0.18, use of precision, recall or F-score with multiclass or multilabel data or pos_label=None will result in an exception. Please set an explicit value for `average`, one of (None, 'micro', 'macro', 'weighted', 'samples'). In cross validation use, for instance, scoring=\"f1_weighted\" instead of scoring=\"f1\".\n",
      "  sample_weight=sample_weight)\n",
      "/Users/vgonpa/anaconda/lib/python2.7/site-packages/sklearn/metrics/classification.py:676: DeprecationWarning: The default `weighted` averaging is deprecated, and from version 0.18, use of precision, recall or F-score with multiclass or multilabel data or pos_label=None will result in an exception. Please set an explicit value for `average`, one of (None, 'micro', 'macro', 'weighted', 'samples'). In cross validation use, for instance, scoring=\"f1_weighted\" instead of scoring=\"f1\".\n",
      "  sample_weight=sample_weight)\n"
     ]
    },
    {
     "data": {
      "text/html": [
       "<div style=\"max-height:1000px;max-width:1500px;overflow:auto;\">\n",
       "<table border=\"1\" class=\"dataframe\">\n",
       "  <thead>\n",
       "    <tr style=\"text-align: right;\">\n",
       "      <th>Training Examples</th>\n",
       "      <th>1</th>\n",
       "      <th>10</th>\n",
       "      <th>20</th>\n",
       "    </tr>\n",
       "  </thead>\n",
       "  <tbody>\n",
       "    <tr>\n",
       "      <th>RGB</th>\n",
       "      <td>0.440498</td>\n",
       "      <td>0.296219</td>\n",
       "      <td>0.748270</td>\n",
       "    </tr>\n",
       "    <tr>\n",
       "      <th>PCloud</th>\n",
       "      <td>0.238319</td>\n",
       "      <td>0.405629</td>\n",
       "      <td>0.256468</td>\n",
       "    </tr>\n",
       "    <tr>\n",
       "      <th>Combined</th>\n",
       "      <td>0.375909</td>\n",
       "      <td>0.303702</td>\n",
       "      <td>0.823470</td>\n",
       "    </tr>\n",
       "  </tbody>\n",
       "</table>\n",
       "</div>"
      ],
      "text/plain": [
       "Training Examples        1         10        20\n",
       "RGB                0.440498  0.296219  0.748270\n",
       "PCloud             0.238319  0.405629  0.256468\n",
       "Combined           0.375909  0.303702  0.823470"
      ]
     },
     "execution_count": 13,
     "metadata": {},
     "output_type": "execute_result"
    }
   ],
   "source": [
    "f1s = get_metric(results, f1_score)\n",
    "f1s.columns.name = \"Training Examples\"\n",
    "f1s"
   ]
  },
  {
   "cell_type": "code",
   "execution_count": 59,
   "metadata": {
    "collapsed": false
   },
   "outputs": [
    {
     "data": {
      "image/png": "[encoded data removed]",
      "text/plain": [
       "<matplotlib.figure.Figure at 0x10ade04d0>"
      ]
     },
     "metadata": {},
     "output_type": "display_data"
    }
   ],
   "source": [
    "f1s.T.plot(kind='bar', ylim=(0,1), rot=0)\n",
    "plt.savefig('f1scores_barplot.pdf', grid=None, transparent=False, dpi=300)"
   ]
  },
  {
   "cell_type": "code",
   "execution_count": 58,
   "metadata": {
    "collapsed": false
   },
   "outputs": [
    {
     "data": {
      "image/png": "[encoded data removed]",
      "text/plain": [
       "<matplotlib.figure.Figure at 0x109f1d450>"
      ]
     },
     "metadata": {},
     "output_type": "display_data"
    }
   ],
   "source": [
    "f1s.T.plot(ylim=(0,1), marker='o')\n",
    "plt.savefig('f1scores_plot.pdf', grid=None, transparent=False, dpi=300)"
   ]
  },
  {
   "cell_type": "markdown",
   "metadata": {},
   "source": [
    "## Confusion Matrix"
   ]
  },
  {
   "cell_type": "code",
   "execution_count": 16,
   "metadata": {
    "collapsed": true
   },
   "outputs": [],
   "source": [
    "from sklearn.metrics import confusion_matrix"
   ]
  },
  {
   "cell_type": "code",
   "execution_count": 17,
   "metadata": {
    "collapsed": false
   },
   "outputs": [
    {
     "name": "stdout",
     "output_type": "stream",
     "text": [
      "confusion_matrix Combined: \n",
      "[[ 0 16  0  0]\n",
      " [ 0 30  3  0]\n",
      " [ 0  8 11  0]\n",
      " [ 4 14  2  1]]\n",
      "confusion_matrix RGB: \n",
      "[[ 0 13  0  3]\n",
      " [ 0 29  4  0]\n",
      " [ 0  6 12  1]\n",
      " [ 0 11  5  5]]\n",
      "confusion_matrix PCloud:t \n",
      "[[ 1 15  0  0]\n",
      " [18 15  0  0]\n",
      " [ 0 13  6  0]\n",
      " [10 11  0  0]]\n",
      "--------------------------------------\n",
      "\n",
      "confusion_matrix Combined: \n",
      "[[11  0  0  0]\n",
      " [29  0  0  0]\n",
      " [ 1  1 15  0]\n",
      " [13  2  1  2]]\n",
      "confusion_matrix RGB: \n",
      "[[10  1  0  0]\n",
      " [29  0  0  0]\n",
      " [ 1  0 15  1]\n",
      " [15  0  1  2]]\n",
      "confusion_matrix PCloud:t \n",
      "[[ 7  0  0  4]\n",
      " [ 6 13  8  2]\n",
      " [ 0  5 12  0]\n",
      " [ 1 14  2  1]]\n",
      "--------------------------------------\n",
      "\n",
      "confusion_matrix Combined: \n",
      "[[ 2  0  3  0]\n",
      " [ 0 15  0  0]\n",
      " [ 3  0  5  0]\n",
      " [ 1  0  0  9]]\n",
      "confusion_matrix RGB: \n",
      "[[ 0  0  5  0]\n",
      " [ 0 15  0  0]\n",
      " [ 2  1  5  0]\n",
      " [ 1  0  0  9]]\n",
      "confusion_matrix PCloud:t \n",
      "[[5 0 0 0]\n",
      " [1 4 2 8]\n",
      " [4 2 2 0]\n",
      " [2 8 0 0]]\n",
      "--------------------------------------\n",
      "\n"
     ]
    }
   ],
   "source": [
    "print_metric(results, confusion_matrix, separator='\\n')"
   ]
  },
  {
   "cell_type": "code",
   "execution_count": 18,
   "metadata": {
    "collapsed": false
   },
   "outputs": [
    {
     "data": {
      "text/plain": [
       "array([[ 2,  0,  3,  0],\n",
       "       [ 0, 15,  0,  0],\n",
       "       [ 3,  0,  5,  0],\n",
       "       [ 1,  0,  0,  9]])"
      ]
     },
     "execution_count": 18,
     "metadata": {},
     "output_type": "execute_result"
    }
   ],
   "source": [
    "cmat = confusion_matrix(data.y, data.pred_combined)\n",
    "cmat"
   ]
  },
  {
   "cell_type": "code",
   "execution_count": 19,
   "metadata": {
    "collapsed": true
   },
   "outputs": [],
   "source": [
    "catnames = ['pelota', 'perro', 'taza', 'tractor']"
   ]
  },
  {
   "cell_type": "code",
   "execution_count": 20,
   "metadata": {
    "collapsed": false
   },
   "outputs": [
    {
     "data": {
      "text/html": [
       "<div style=\"max-height:1000px;max-width:1500px;overflow:auto;\">\n",
       "<table border=\"1\" class=\"dataframe\">\n",
       "  <thead>\n",
       "    <tr style=\"text-align: right;\">\n",
       "      <th></th>\n",
       "      <th>pelota</th>\n",
       "      <th>perro</th>\n",
       "      <th>taza</th>\n",
       "      <th>tractor</th>\n",
       "    </tr>\n",
       "  </thead>\n",
       "  <tbody>\n",
       "    <tr>\n",
       "      <th>pelota</th>\n",
       "      <td>2</td>\n",
       "      <td>0</td>\n",
       "      <td>3</td>\n",
       "      <td>0</td>\n",
       "    </tr>\n",
       "    <tr>\n",
       "      <th>perro</th>\n",
       "      <td>0</td>\n",
       "      <td>15</td>\n",
       "      <td>0</td>\n",
       "      <td>0</td>\n",
       "    </tr>\n",
       "    <tr>\n",
       "      <th>taza</th>\n",
       "      <td>3</td>\n",
       "      <td>0</td>\n",
       "      <td>5</td>\n",
       "      <td>0</td>\n",
       "    </tr>\n",
       "    <tr>\n",
       "      <th>tractor</th>\n",
       "      <td>1</td>\n",
       "      <td>0</td>\n",
       "      <td>0</td>\n",
       "      <td>9</td>\n",
       "    </tr>\n",
       "  </tbody>\n",
       "</table>\n",
       "</div>"
      ],
      "text/plain": [
       "         pelota  perro  taza  tractor\n",
       "pelota        2      0     3        0\n",
       "perro         0     15     0        0\n",
       "taza          3      0     5        0\n",
       "tractor       1      0     0        9"
      ]
     },
     "execution_count": 20,
     "metadata": {},
     "output_type": "execute_result"
    }
   ],
   "source": [
    "pcm = pd.DataFrame(cmat, index=catnames, columns=catnames)\n",
    "pcm"
   ]
  },
  {
   "cell_type": "code",
   "execution_count": 21,
   "metadata": {
    "collapsed": true
   },
   "outputs": [],
   "source": [
    "def make_conf_matrix(result):\n",
    "    _cmatrix = confusion_matrix(res.y, res.pred_combined)\n",
    "    return pd.DataFrame(_cmatrix, index=catnames, columns=catnames)"
   ]
  },
  {
   "cell_type": "code",
   "execution_count": 22,
   "metadata": {
    "collapsed": false
   },
   "outputs": [
    {
     "name": "stdout",
     "output_type": "stream",
     "text": [
      "         pelota  perro  taza  tractor\n",
      "pelota        0     16     0        0\n",
      "perro         0     30     3        0\n",
      "taza          0      8    11        0\n",
      "tractor       4     14     2        1\n",
      "         pelota  perro  taza  tractor\n",
      "pelota       11      0     0        0\n",
      "perro        29      0     0        0\n",
      "taza          1      1    15        0\n",
      "tractor      13      2     1        2\n",
      "         pelota  perro  taza  tractor\n",
      "pelota        2      0     3        0\n",
      "perro         0     15     0        0\n",
      "taza          3      0     5        0\n",
      "tractor       1      0     0        9\n"
     ]
    }
   ],
   "source": [
    "for res in results:\n",
    "    print make_conf_matrix(res)"
   ]
  },
  {
   "cell_type": "markdown",
   "metadata": {},
   "source": [
    "##  Normalized Confusion Matrix"
   ]
  },
  {
   "cell_type": "code",
   "execution_count": 23,
   "metadata": {
    "collapsed": false
   },
   "outputs": [
    {
     "data": {
      "text/plain": [
       "array([[ 0.4  ,  0.   ,  0.6  ,  0.   ],\n",
       "       [ 0.   ,  1.   ,  0.   ,  0.   ],\n",
       "       [ 0.375,  0.   ,  0.625,  0.   ],\n",
       "       [ 0.1  ,  0.   ,  0.   ,  0.9  ]])"
      ]
     },
     "execution_count": 23,
     "metadata": {},
     "output_type": "execute_result"
    }
   ],
   "source": [
    "normalized = np.zeros([4,4])\n",
    "for index, row in enumerate(cmat):\n",
    "    normalized[index] = np.true_divide(row, sum(row))\n",
    "normalized"
   ]
  },
  {
   "cell_type": "code",
   "execution_count": 24,
   "metadata": {
    "collapsed": false
   },
   "outputs": [
    {
     "data": {
      "text/html": [
       "<div style=\"max-height:1000px;max-width:1500px;overflow:auto;\">\n",
       "<table border=\"1\" class=\"dataframe\">\n",
       "  <thead>\n",
       "    <tr style=\"text-align: right;\">\n",
       "      <th></th>\n",
       "      <th>pelota</th>\n",
       "      <th>perro</th>\n",
       "      <th>taza</th>\n",
       "      <th>tractor</th>\n",
       "    </tr>\n",
       "  </thead>\n",
       "  <tbody>\n",
       "    <tr>\n",
       "      <th>pelota</th>\n",
       "      <td>0.40</td>\n",
       "      <td>0</td>\n",
       "      <td>0.60</td>\n",
       "      <td>0.0</td>\n",
       "    </tr>\n",
       "    <tr>\n",
       "      <th>perro</th>\n",
       "      <td>0.00</td>\n",
       "      <td>1</td>\n",
       "      <td>0.00</td>\n",
       "      <td>0.0</td>\n",
       "    </tr>\n",
       "    <tr>\n",
       "      <th>taza</th>\n",
       "      <td>0.38</td>\n",
       "      <td>0</td>\n",
       "      <td>0.62</td>\n",
       "      <td>0.0</td>\n",
       "    </tr>\n",
       "    <tr>\n",
       "      <th>tractor</th>\n",
       "      <td>0.10</td>\n",
       "      <td>0</td>\n",
       "      <td>0.00</td>\n",
       "      <td>0.9</td>\n",
       "    </tr>\n",
       "  </tbody>\n",
       "</table>\n",
       "</div>"
      ],
      "text/plain": [
       "         pelota  perro  taza  tractor\n",
       "pelota     0.40      0  0.60      0.0\n",
       "perro      0.00      1  0.00      0.0\n",
       "taza       0.38      0  0.62      0.0\n",
       "tractor    0.10      0  0.00      0.9"
      ]
     },
     "execution_count": 24,
     "metadata": {},
     "output_type": "execute_result"
    }
   ],
   "source": [
    "cm_normalized = pd.DataFrame(normalized, index=catnames, columns=catnames)\n",
    "cm_normalized = cm_normalized.apply(np.round, args=(2,))\n",
    "cm_normalized"
   ]
  },
  {
   "cell_type": "code",
   "execution_count": 25,
   "metadata": {
    "collapsed": true
   },
   "outputs": [],
   "source": [
    "def normalize_ndarray(arr, size=[4,4]):\n",
    "    _norm = np.zeros(size)\n",
    "    for index, row in enumerate(arr):\n",
    "        _norm[index] = np.true_divide(row, sum(row))\n",
    "    return _norm"
   ]
  },
  {
   "cell_type": "code",
   "execution_count": 26,
   "metadata": {
    "collapsed": false
   },
   "outputs": [
    {
     "ename": "TypeError",
     "evalue": "cannot perform reduce with flexible type",
     "output_type": "error",
     "traceback": [
      "\u001b[0;31m---------------------------------------------------------------------------\u001b[0m",
      "\u001b[0;31mTypeError\u001b[0m                                 Traceback (most recent call last)",
      "\u001b[0;32m<ipython-input-26-a790265bcbea>\u001b[0m in \u001b[0;36m<module>\u001b[0;34m()\u001b[0m\n\u001b[1;32m      3\u001b[0m     \u001b[0m_cmat\u001b[0m \u001b[0;34m=\u001b[0m \u001b[0mconfusion_matrix\u001b[0m\u001b[0;34m(\u001b[0m\u001b[0mres\u001b[0m\u001b[0;34m.\u001b[0m\u001b[0my\u001b[0m\u001b[0;34m,\u001b[0m \u001b[0mres\u001b[0m\u001b[0;34m.\u001b[0m\u001b[0mpred_combined\u001b[0m\u001b[0;34m)\u001b[0m\u001b[0;34m\u001b[0m\u001b[0m\n\u001b[1;32m      4\u001b[0m     \u001b[0m_cmatrix\u001b[0m \u001b[0;34m=\u001b[0m \u001b[0mpd\u001b[0m\u001b[0;34m.\u001b[0m\u001b[0mDataFrame\u001b[0m\u001b[0;34m(\u001b[0m\u001b[0m_cmat\u001b[0m\u001b[0;34m,\u001b[0m \u001b[0mindex\u001b[0m\u001b[0;34m=\u001b[0m\u001b[0mcatnames\u001b[0m\u001b[0;34m,\u001b[0m \u001b[0mcolumns\u001b[0m\u001b[0;34m=\u001b[0m\u001b[0mcatnames\u001b[0m\u001b[0;34m)\u001b[0m\u001b[0;34m\u001b[0m\u001b[0m\n\u001b[0;32m----> 5\u001b[0;31m     \u001b[0m_normalized\u001b[0m \u001b[0;34m=\u001b[0m \u001b[0mnormalize_ndarray\u001b[0m\u001b[0;34m(\u001b[0m\u001b[0m_cmatrix\u001b[0m\u001b[0;34m)\u001b[0m\u001b[0;34m\u001b[0m\u001b[0m\n\u001b[0m\u001b[1;32m      6\u001b[0m     \u001b[0mcm_normalized\u001b[0m \u001b[0;34m=\u001b[0m \u001b[0mpd\u001b[0m\u001b[0;34m.\u001b[0m\u001b[0mDataFrame\u001b[0m\u001b[0;34m(\u001b[0m\u001b[0m_normalized\u001b[0m\u001b[0;34m,\u001b[0m \u001b[0mindex\u001b[0m\u001b[0;34m=\u001b[0m\u001b[0mcatnames\u001b[0m\u001b[0;34m,\u001b[0m \u001b[0mcolumns\u001b[0m\u001b[0;34m=\u001b[0m\u001b[0mcatnames\u001b[0m\u001b[0;34m)\u001b[0m\u001b[0;34m\u001b[0m\u001b[0m\n\u001b[1;32m      7\u001b[0m     \u001b[0mcm_normalized\u001b[0m \u001b[0;34m=\u001b[0m \u001b[0mcm_normalized\u001b[0m\u001b[0;34m.\u001b[0m\u001b[0mapply\u001b[0m\u001b[0;34m(\u001b[0m\u001b[0mnp\u001b[0m\u001b[0;34m.\u001b[0m\u001b[0mround\u001b[0m\u001b[0;34m,\u001b[0m \u001b[0margs\u001b[0m\u001b[0;34m=\u001b[0m\u001b[0;34m(\u001b[0m\u001b[0;36m2\u001b[0m\u001b[0;34m,\u001b[0m\u001b[0;34m)\u001b[0m\u001b[0;34m)\u001b[0m\u001b[0;34m\u001b[0m\u001b[0m\n",
      "\u001b[0;32m<ipython-input-25-6ceeae7c0437>\u001b[0m in \u001b[0;36mnormalize_ndarray\u001b[0;34m(arr, size)\u001b[0m\n\u001b[1;32m      2\u001b[0m     \u001b[0m_norm\u001b[0m \u001b[0;34m=\u001b[0m \u001b[0mnp\u001b[0m\u001b[0;34m.\u001b[0m\u001b[0mzeros\u001b[0m\u001b[0;34m(\u001b[0m\u001b[0msize\u001b[0m\u001b[0;34m)\u001b[0m\u001b[0;34m\u001b[0m\u001b[0m\n\u001b[1;32m      3\u001b[0m     \u001b[0;32mfor\u001b[0m \u001b[0mindex\u001b[0m\u001b[0;34m,\u001b[0m \u001b[0mrow\u001b[0m \u001b[0;32min\u001b[0m \u001b[0menumerate\u001b[0m\u001b[0;34m(\u001b[0m\u001b[0marr\u001b[0m\u001b[0;34m)\u001b[0m\u001b[0;34m:\u001b[0m\u001b[0;34m\u001b[0m\u001b[0m\n\u001b[0;32m----> 4\u001b[0;31m         \u001b[0m_norm\u001b[0m\u001b[0;34m[\u001b[0m\u001b[0mindex\u001b[0m\u001b[0;34m]\u001b[0m \u001b[0;34m=\u001b[0m \u001b[0mnp\u001b[0m\u001b[0;34m.\u001b[0m\u001b[0mtrue_divide\u001b[0m\u001b[0;34m(\u001b[0m\u001b[0mrow\u001b[0m\u001b[0;34m,\u001b[0m \u001b[0msum\u001b[0m\u001b[0;34m(\u001b[0m\u001b[0mrow\u001b[0m\u001b[0;34m)\u001b[0m\u001b[0;34m)\u001b[0m\u001b[0;34m\u001b[0m\u001b[0m\n\u001b[0m\u001b[1;32m      5\u001b[0m     \u001b[0;32mreturn\u001b[0m \u001b[0m_norm\u001b[0m\u001b[0;34m\u001b[0m\u001b[0m\n",
      "\u001b[0;32m/Users/vgonpa/anaconda/lib/python2.7/site-packages/numpy/core/fromnumeric.pyc\u001b[0m in \u001b[0;36msum\u001b[0;34m(a, axis, dtype, out, keepdims)\u001b[0m\n\u001b[1;32m   1717\u001b[0m         \u001b[0;32mexcept\u001b[0m \u001b[0mAttributeError\u001b[0m\u001b[0;34m:\u001b[0m\u001b[0;34m\u001b[0m\u001b[0m\n\u001b[1;32m   1718\u001b[0m             return _methods._sum(a, axis=axis, dtype=dtype,\n\u001b[0;32m-> 1719\u001b[0;31m                                 out=out, keepdims=keepdims)\n\u001b[0m\u001b[1;32m   1720\u001b[0m         \u001b[0;31m# NOTE: Dropping the keepdims parameters here...\u001b[0m\u001b[0;34m\u001b[0m\u001b[0;34m\u001b[0m\u001b[0m\n\u001b[1;32m   1721\u001b[0m         \u001b[0;32mreturn\u001b[0m \u001b[0msum\u001b[0m\u001b[0;34m(\u001b[0m\u001b[0maxis\u001b[0m\u001b[0;34m=\u001b[0m\u001b[0maxis\u001b[0m\u001b[0;34m,\u001b[0m \u001b[0mdtype\u001b[0m\u001b[0;34m=\u001b[0m\u001b[0mdtype\u001b[0m\u001b[0;34m,\u001b[0m \u001b[0mout\u001b[0m\u001b[0;34m=\u001b[0m\u001b[0mout\u001b[0m\u001b[0;34m)\u001b[0m\u001b[0;34m\u001b[0m\u001b[0m\n",
      "\u001b[0;32m/Users/vgonpa/anaconda/lib/python2.7/site-packages/numpy/core/_methods.pyc\u001b[0m in \u001b[0;36m_sum\u001b[0;34m(a, axis, dtype, out, keepdims)\u001b[0m\n\u001b[1;32m     30\u001b[0m \u001b[0;34m\u001b[0m\u001b[0m\n\u001b[1;32m     31\u001b[0m \u001b[0;32mdef\u001b[0m \u001b[0m_sum\u001b[0m\u001b[0;34m(\u001b[0m\u001b[0ma\u001b[0m\u001b[0;34m,\u001b[0m \u001b[0maxis\u001b[0m\u001b[0;34m=\u001b[0m\u001b[0mNone\u001b[0m\u001b[0;34m,\u001b[0m \u001b[0mdtype\u001b[0m\u001b[0;34m=\u001b[0m\u001b[0mNone\u001b[0m\u001b[0;34m,\u001b[0m \u001b[0mout\u001b[0m\u001b[0;34m=\u001b[0m\u001b[0mNone\u001b[0m\u001b[0;34m,\u001b[0m \u001b[0mkeepdims\u001b[0m\u001b[0;34m=\u001b[0m\u001b[0mFalse\u001b[0m\u001b[0;34m)\u001b[0m\u001b[0;34m:\u001b[0m\u001b[0;34m\u001b[0m\u001b[0m\n\u001b[0;32m---> 32\u001b[0;31m     \u001b[0;32mreturn\u001b[0m \u001b[0mumr_sum\u001b[0m\u001b[0;34m(\u001b[0m\u001b[0ma\u001b[0m\u001b[0;34m,\u001b[0m \u001b[0maxis\u001b[0m\u001b[0;34m,\u001b[0m \u001b[0mdtype\u001b[0m\u001b[0;34m,\u001b[0m \u001b[0mout\u001b[0m\u001b[0;34m,\u001b[0m \u001b[0mkeepdims\u001b[0m\u001b[0;34m)\u001b[0m\u001b[0;34m\u001b[0m\u001b[0m\n\u001b[0m\u001b[1;32m     33\u001b[0m \u001b[0;34m\u001b[0m\u001b[0m\n\u001b[1;32m     34\u001b[0m \u001b[0;32mdef\u001b[0m \u001b[0m_prod\u001b[0m\u001b[0;34m(\u001b[0m\u001b[0ma\u001b[0m\u001b[0;34m,\u001b[0m \u001b[0maxis\u001b[0m\u001b[0;34m=\u001b[0m\u001b[0mNone\u001b[0m\u001b[0;34m,\u001b[0m \u001b[0mdtype\u001b[0m\u001b[0;34m=\u001b[0m\u001b[0mNone\u001b[0m\u001b[0;34m,\u001b[0m \u001b[0mout\u001b[0m\u001b[0;34m=\u001b[0m\u001b[0mNone\u001b[0m\u001b[0;34m,\u001b[0m \u001b[0mkeepdims\u001b[0m\u001b[0;34m=\u001b[0m\u001b[0mFalse\u001b[0m\u001b[0;34m)\u001b[0m\u001b[0;34m:\u001b[0m\u001b[0;34m\u001b[0m\u001b[0m\n",
      "\u001b[0;31mTypeError\u001b[0m: cannot perform reduce with flexible type"
     ]
    }
   ],
   "source": [
    "for res in results:\n",
    "    #cmatrix = make_conf_matrix(res)\n",
    "    _cmat = confusion_matrix(res.y, res.pred_combined)\n",
    "    _cmatrix = pd.DataFrame(_cmat, index=catnames, columns=catnames)\n",
    "    _normalized = normalize_ndarray(_cmatrix)\n",
    "    cm_normalized = pd.DataFrame(_normalized, index=catnames, columns=catnames)\n",
    "    cm_normalized = cm_normalized.apply(np.round, args=(2,))\n",
    "    print cm_normalized"
   ]
  },
  {
   "cell_type": "code",
   "execution_count": null,
   "metadata": {
    "collapsed": false
   },
   "outputs": [],
   "source": [
    "cm_normalized.values.diagonal().mean()"
   ]
  },
  {
   "cell_type": "code",
   "execution_count": null,
   "metadata": {
    "collapsed": true
   },
   "outputs": [],
   "source": [
    "from sklearn.metrics import precision_score, recall_score"
   ]
  },
  {
   "cell_type": "markdown",
   "metadata": {
    "collapsed": true
   },
   "source": [
    "# JSD"
   ]
  },
  {
   "cell_type": "code",
   "execution_count": 60,
   "metadata": {
    "collapsed": false
   },
   "outputs": [
    {
     "data": {
      "text/plain": [
       "Training Examples\n",
       "1     0.405736\n",
       "10    0.452959\n",
       "20    0.467272\n",
       "dtype: float64"
      ]
     },
     "execution_count": 60,
     "metadata": {},
     "output_type": "execute_result"
    }
   ],
   "source": [
    "jsds = pd.Series([res.jsd.mean() for res in results], index=VIEWS)\n",
    "jsds.index.name = \"Training Examples\"\n",
    "jsds"
   ]
  },
  {
   "cell_type": "code",
   "execution_count": 64,
   "metadata": {
    "collapsed": false
   },
   "outputs": [
    {
     "data": {
      "image/png": "[encoded data removed]",
      "text/plain": [
       "<matplotlib.figure.Figure at 0x10ab85ad0>"
      ]
     },
     "metadata": {},
     "output_type": "display_data"
    }
   ],
   "source": [
    "jsds.plot(xlim=(0,21), ylim=(0,1), marker='o')\n",
    "plt.savefig('jsd.pdf', grid=None, transparent=False, dpi=300)"
   ]
  },
  {
   "cell_type": "code",
   "execution_count": 63,
   "metadata": {
    "collapsed": false
   },
   "outputs": [
    {
     "data": {
      "image/png": "[encoded data removed]",
      "text/plain": [
       "<matplotlib.figure.Figure at 0x10ae2fb10>"
      ]
     },
     "metadata": {},
     "output_type": "display_data"
    }
   ],
   "source": [
    "jsds.plot(kind='bar', ylim=(0,1), rot=0)\n",
    "plt.savefig('jsd_barplot.pdf', grid=None, transparent=False, dpi=300)"
   ]
  },
  {
   "cell_type": "markdown",
   "metadata": {},
   "source": [
    "# Entropy "
   ]
  },
  {
   "cell_type": "code",
   "execution_count": 45,
   "metadata": {
    "collapsed": false
   },
   "outputs": [],
   "source": [
    "h_rgb = pd.Series([res.entropy_rgb.mean() for res in results], index=VIEWS)\n",
    "h_pcloud = pd.Series([res.entropy_pcloud.mean() for res in results], index=VIEWS)\n",
    "\n",
    "Hs = pd.DataFrame([h_rgb, h_pcloud], index=FIELDS[0:-1], columns=VIEWS)\n",
    "Hs.columns.name = \"Training Examples\"\n",
    "\n",
    "# Standard Errors\n",
    "h_rgb_sem = pd.Series([sem(res.entropy_rgb) for res in results], index=VIEWS)\n",
    "h_pcloud_sem = pd.Series([sem(res.entropy_pcloud) for res in results], index=VIEWS)\n",
    "\n",
    "Hs_sem = pd.DataFrame([h_rgb_sem, h_pcloud_sem], index=FIELDS[0:-1], columns=VIEWS)"
   ]
  },
  {
   "cell_type": "code",
   "execution_count": 46,
   "metadata": {
    "collapsed": false
   },
   "outputs": [
    {
     "data": {
      "text/html": [
       "<div style=\"max-height:1000px;max-width:1500px;overflow:auto;\">\n",
       "<table border=\"1\" class=\"dataframe\">\n",
       "  <thead>\n",
       "    <tr style=\"text-align: right;\">\n",
       "      <th>Training Examples</th>\n",
       "      <th>1</th>\n",
       "      <th>10</th>\n",
       "      <th>20</th>\n",
       "    </tr>\n",
       "  </thead>\n",
       "  <tbody>\n",
       "    <tr>\n",
       "      <th>RGB</th>\n",
       "      <td>0.869677</td>\n",
       "      <td>0.550720</td>\n",
       "      <td>0.654488</td>\n",
       "    </tr>\n",
       "    <tr>\n",
       "      <th>PCloud</th>\n",
       "      <td>0.618434</td>\n",
       "      <td>1.195665</td>\n",
       "      <td>1.250784</td>\n",
       "    </tr>\n",
       "  </tbody>\n",
       "</table>\n",
       "</div>"
      ],
      "text/plain": [
       "Training Examples        1         10        20\n",
       "RGB                0.869677  0.550720  0.654488\n",
       "PCloud             0.618434  1.195665  1.250784"
      ]
     },
     "execution_count": 46,
     "metadata": {},
     "output_type": "execute_result"
    }
   ],
   "source": [
    "Hs"
   ]
  },
  {
   "cell_type": "code",
   "execution_count": 47,
   "metadata": {
    "collapsed": false
   },
   "outputs": [
    {
     "data": {
      "text/html": [
       "<div style=\"max-height:1000px;max-width:1500px;overflow:auto;\">\n",
       "<table border=\"1\" class=\"dataframe\">\n",
       "  <thead>\n",
       "    <tr style=\"text-align: right;\">\n",
       "      <th></th>\n",
       "      <th>1</th>\n",
       "      <th>10</th>\n",
       "      <th>20</th>\n",
       "    </tr>\n",
       "  </thead>\n",
       "  <tbody>\n",
       "    <tr>\n",
       "      <th>RGB</th>\n",
       "      <td>0.052077</td>\n",
       "      <td>0.063604</td>\n",
       "      <td>0.094914</td>\n",
       "    </tr>\n",
       "    <tr>\n",
       "      <th>PCloud</th>\n",
       "      <td>0.043209</td>\n",
       "      <td>0.051245</td>\n",
       "      <td>0.089252</td>\n",
       "    </tr>\n",
       "  </tbody>\n",
       "</table>\n",
       "</div>"
      ],
      "text/plain": [
       "              1         10        20\n",
       "RGB     0.052077  0.063604  0.094914\n",
       "PCloud  0.043209  0.051245  0.089252"
      ]
     },
     "execution_count": 47,
     "metadata": {},
     "output_type": "execute_result"
    }
   ],
   "source": [
    "Hs_sem"
   ]
  },
  {
   "cell_type": "code",
   "execution_count": 57,
   "metadata": {
    "collapsed": false
   },
   "outputs": [
    {
     "data": {
      "image/png": "[encoded data removed]",
      "text/plain": [
       "<matplotlib.figure.Figure at 0x10a780090>"
      ]
     },
     "metadata": {},
     "output_type": "display_data"
    }
   ],
   "source": [
    "Hs.T.plot(kind='bar', yerr=1.96*Hs_sem.T, rot=0)\n",
    "plt.savefig('entropy.pdf', grid=None, transparent=False, dpi=300)"
   ]
  },
  {
   "cell_type": "code",
   "execution_count": 49,
   "metadata": {
    "collapsed": false
   },
   "outputs": [
    {
     "data": {
      "text/plain": [
       "<matplotlib.axes._subplots.AxesSubplot at 0x10a204c90>"
      ]
     },
     "execution_count": 49,
     "metadata": {},
     "output_type": "execute_result"
    },
    {
     "data": {
      "image/png": "[encoded data removed]",
      "text/plain": [
       "<matplotlib.figure.Figure at 0x108e8cf50>"
      ]
     },
     "metadata": {},
     "output_type": "display_data"
    }
   ],
   "source": [
    "Hs.T.plot(kind='box', ylim=(0,1.5), rot=0)"
   ]
  },
  {
   "cell_type": "code",
   "execution_count": 50,
   "metadata": {
    "collapsed": false
   },
   "outputs": [
    {
     "data": {
      "text/plain": [
       "<matplotlib.axes._subplots.AxesSubplot at 0x10a605fd0>"
      ]
     },
     "execution_count": 50,
     "metadata": {},
     "output_type": "execute_result"
    },
    {
     "data": {
      "image/png": "[encoded data removed]",
      "text/plain": [
       "<matplotlib.figure.Figure at 0x108c21150>"
      ]
     },
     "metadata": {},
     "output_type": "display_data"
    }
   ],
   "source": [
    "Hs.plot(kind='box')"
   ]
  },
  {
   "cell_type": "markdown",
   "metadata": {},
   "source": [
    "# Margin"
   ]
  },
  {
   "cell_type": "code",
   "execution_count": 28,
   "metadata": {
    "collapsed": false
   },
   "outputs": [
    {
     "name": "stdout",
     "output_type": "stream",
     "text": [
      "count    89.000000\n",
      "mean     15.606742\n",
      "std       9.821843\n",
      "min       0.000000\n",
      "25%       8.000000\n",
      "50%      15.000000\n",
      "75%      24.000000\n",
      "max      30.000000\n",
      "Name: margin_rgb, dtype: float64\n",
      "count    89.000000\n",
      "mean     17.134831\n",
      "std      10.001353\n",
      "min       0.000000\n",
      "25%       8.000000\n",
      "50%      18.000000\n",
      "75%      28.000000\n",
      "max      30.000000\n",
      "Name: margin_pcloud, dtype: float64\n",
      "------------------------------------\n",
      "\n",
      "count    75.000000\n",
      "mean     21.813333\n",
      "std       9.020537\n",
      "min       0.000000\n",
      "25%      14.000000\n",
      "50%      25.000000\n",
      "75%      30.000000\n",
      "max      30.000000\n",
      "Name: margin_rgb, dtype: float64\n",
      "count    75.000000\n",
      "mean      9.653333\n",
      "std       7.849072\n",
      "min       0.000000\n",
      "25%       4.000000\n",
      "50%       7.000000\n",
      "75%      14.000000\n",
      "max      30.000000\n",
      "Name: margin_pcloud, dtype: float64\n",
      "------------------------------------\n",
      "\n",
      "count    38.000000\n",
      "mean     20.105263\n",
      "std       9.275919\n",
      "min       1.000000\n",
      "25%      12.500000\n",
      "50%      22.000000\n",
      "75%      29.500000\n",
      "max      30.000000\n",
      "Name: margin_rgb, dtype: float64\n",
      "count    38.000000\n",
      "mean     11.052632\n",
      "std       8.627258\n",
      "min       1.000000\n",
      "25%       4.250000\n",
      "50%       8.500000\n",
      "75%      15.000000\n",
      "max      30.000000\n",
      "Name: margin_pcloud, dtype: float64\n",
      "------------------------------------\n",
      "\n"
     ]
    }
   ],
   "source": [
    "for res in results:\n",
    "    print res.margin_rgb.describe()\n",
    "    print res.margin_pcloud.describe()\n",
    "    print '------------------------------------\\n'"
   ]
  },
  {
   "cell_type": "code",
   "execution_count": 29,
   "metadata": {
    "collapsed": false
   },
   "outputs": [],
   "source": [
    "m_rgb = pd.Series([res.margin_rgb.mean() for res in results], index=VIEWS)\n",
    "m_pcloud = pd.Series([res.margin_pcloud.mean() for res in results], index=VIEWS)\n",
    "\n",
    "Ms = pd.DataFrame([m_rgb, m_pcloud], index=FIELDS[0:-1], columns=VIEWS)\n",
    "Ms.columns.name = \"Training Examples\"\n",
    "\n",
    "# Standard Errors\n",
    "m_rgb_sem = pd.Series([sem(res.margin_rgb) for res in results], index=VIEWS)\n",
    "m_pcloud_sem = pd.Series([sem(res.margin_pcloud) for res in results], index=VIEWS)\n",
    "\n",
    "Ms_sem = pd.DataFrame([m_rgb_sem, m_pcloud_sem], index=FIELDS[0:-1], columns=VIEWS)"
   ]
  },
  {
   "cell_type": "code",
   "execution_count": 30,
   "metadata": {
    "collapsed": false
   },
   "outputs": [
    {
     "data": {
      "text/html": [
       "<div style=\"max-height:1000px;max-width:1500px;overflow:auto;\">\n",
       "<table border=\"1\" class=\"dataframe\">\n",
       "  <thead>\n",
       "    <tr style=\"text-align: right;\">\n",
       "      <th>Training Examples</th>\n",
       "      <th>1</th>\n",
       "      <th>10</th>\n",
       "      <th>20</th>\n",
       "    </tr>\n",
       "  </thead>\n",
       "  <tbody>\n",
       "    <tr>\n",
       "      <th>RGB</th>\n",
       "      <td>15.606742</td>\n",
       "      <td>21.813333</td>\n",
       "      <td>20.105263</td>\n",
       "    </tr>\n",
       "    <tr>\n",
       "      <th>PCloud</th>\n",
       "      <td>17.134831</td>\n",
       "      <td>9.653333</td>\n",
       "      <td>11.052632</td>\n",
       "    </tr>\n",
       "  </tbody>\n",
       "</table>\n",
       "</div>"
      ],
      "text/plain": [
       "Training Examples         1          10         20\n",
       "RGB                15.606742  21.813333  20.105263\n",
       "PCloud             17.134831   9.653333  11.052632"
      ]
     },
     "execution_count": 30,
     "metadata": {},
     "output_type": "execute_result"
    }
   ],
   "source": [
    "Ms"
   ]
  },
  {
   "cell_type": "code",
   "execution_count": 31,
   "metadata": {
    "collapsed": false
   },
   "outputs": [
    {
     "data": {
      "text/html": [
       "<div style=\"max-height:1000px;max-width:1500px;overflow:auto;\">\n",
       "<table border=\"1\" class=\"dataframe\">\n",
       "  <thead>\n",
       "    <tr style=\"text-align: right;\">\n",
       "      <th></th>\n",
       "      <th>1</th>\n",
       "      <th>10</th>\n",
       "      <th>20</th>\n",
       "    </tr>\n",
       "  </thead>\n",
       "  <tbody>\n",
       "    <tr>\n",
       "      <th>RGB</th>\n",
       "      <td>1.041113</td>\n",
       "      <td>1.041602</td>\n",
       "      <td>1.504753</td>\n",
       "    </tr>\n",
       "    <tr>\n",
       "      <th>PCloud</th>\n",
       "      <td>1.060141</td>\n",
       "      <td>0.906333</td>\n",
       "      <td>1.399526</td>\n",
       "    </tr>\n",
       "  </tbody>\n",
       "</table>\n",
       "</div>"
      ],
      "text/plain": [
       "              1         10        20\n",
       "RGB     1.041113  1.041602  1.504753\n",
       "PCloud  1.060141  0.906333  1.399526"
      ]
     },
     "execution_count": 31,
     "metadata": {},
     "output_type": "execute_result"
    }
   ],
   "source": [
    "Ms_sem"
   ]
  },
  {
   "cell_type": "code",
   "execution_count": 32,
   "metadata": {
    "collapsed": false
   },
   "outputs": [
    {
     "data": {
      "text/plain": [
       "<matplotlib.axes._subplots.AxesSubplot at 0x108d797d0>"
      ]
     },
     "execution_count": 32,
     "metadata": {},
     "output_type": "execute_result"
    },
    {
     "data": {
      "image/png": "[encoded data removed]",
      "text/plain": [
       "<matplotlib.figure.Figure at 0x108904190>"
      ]
     },
     "metadata": {},
     "output_type": "display_data"
    }
   ],
   "source": [
    "Ms.T.plot(kind='bar', yerr=1.96*Ms_sem.T, ylim=(0, 30), rot=0)"
   ]
  },
  {
   "cell_type": "code",
   "execution_count": 35,
   "metadata": {
    "collapsed": false
   },
   "outputs": [
    {
     "data": {
      "text/plain": [
       "<matplotlib.axes._subplots.AxesSubplot at 0x109810dd0>"
      ]
     },
     "execution_count": 35,
     "metadata": {},
     "output_type": "execute_result"
    },
    {
     "data": {
      "image/png": "[encoded data removed]",
      "text/plain": [
       "<matplotlib.figure.Figure at 0x109825e90>"
      ]
     },
     "metadata": {},
     "output_type": "display_data"
    }
   ],
   "source": [
    "Ms.T.plot(yerr=1.96*Ms_sem.T, xlim=(0, 21), ylim=(0,30))"
   ]
  },
  {
   "cell_type": "markdown",
   "metadata": {},
   "source": [
    "Normalized Margin"
   ]
  },
  {
   "cell_type": "code",
   "execution_count": 65,
   "metadata": {
    "collapsed": false
   },
   "outputs": [
    {
     "data": {
      "text/html": [
       "<div style=\"max-height:1000px;max-width:1500px;overflow:auto;\">\n",
       "<table border=\"1\" class=\"dataframe\">\n",
       "  <thead>\n",
       "    <tr style=\"text-align: right;\">\n",
       "      <th>Training Examples</th>\n",
       "      <th>1</th>\n",
       "      <th>10</th>\n",
       "      <th>20</th>\n",
       "    </tr>\n",
       "  </thead>\n",
       "  <tbody>\n",
       "    <tr>\n",
       "      <th>RGB</th>\n",
       "      <td>0.520225</td>\n",
       "      <td>0.727111</td>\n",
       "      <td>0.670175</td>\n",
       "    </tr>\n",
       "    <tr>\n",
       "      <th>PCloud</th>\n",
       "      <td>0.571161</td>\n",
       "      <td>0.321778</td>\n",
       "      <td>0.368421</td>\n",
       "    </tr>\n",
       "  </tbody>\n",
       "</table>\n",
       "</div>"
      ],
      "text/plain": [
       "Training Examples        1         10        20\n",
       "RGB                0.520225  0.727111  0.670175\n",
       "PCloud             0.571161  0.321778  0.368421"
      ]
     },
     "execution_count": 65,
     "metadata": {},
     "output_type": "execute_result"
    }
   ],
   "source": [
    "normalized_margins = Ms/30\n",
    "normalized_margins_stderr = Ms_sem/30\n",
    "normalized_margins.columns.name = \"Training Examples\"\n",
    "#normalized_margins.index.name = \"Matcher\"\n",
    "normalized_margins"
   ]
  },
  {
   "cell_type": "code",
   "execution_count": 66,
   "metadata": {
    "collapsed": false
   },
   "outputs": [
    {
     "data": {
      "text/plain": [
       "u'\\\\begin{tabular}{lrrr}\\n\\\\toprule\\nTraining Examples &        1  &        10 &        20 \\\\\\\\\\n\\\\midrule\\nRGB    &  0.520225 &  0.727111 &  0.670175 \\\\\\\\\\nPCloud &  0.571161 &  0.321778 &  0.368421 \\\\\\\\\\n\\\\bottomrule\\n\\\\end{tabular}\\n'"
      ]
     },
     "execution_count": 66,
     "metadata": {},
     "output_type": "execute_result"
    }
   ],
   "source": [
    "normalized_margins.to_latex()"
   ]
  },
  {
   "cell_type": "code",
   "execution_count": 42,
   "metadata": {
    "collapsed": false
   },
   "outputs": [
    {
     "data": {
      "image/png": "[encoded data removed]",
      "text/plain": [
       "<matplotlib.figure.Figure at 0x109ef9310>"
      ]
     },
     "metadata": {},
     "output_type": "display_data"
    }
   ],
   "source": [
    "normalized_margins.T.plot(kind='bar',\n",
    "                          yerr=1.96*normalized_margins_stderr.T,\n",
    "                          ylim=(0, 1), rot=0)\n",
    "plt.savefig('norm_margin.pdf', grid=None, transparent=False, dpi=300)"
   ]
  },
  {
   "cell_type": "code",
   "execution_count": 44,
   "metadata": {
    "collapsed": false
   },
   "outputs": [
    {
     "data": {
      "text/plain": [
       "<matplotlib.axes._subplots.AxesSubplot at 0x109d45190>"
      ]
     },
     "execution_count": 44,
     "metadata": {},
     "output_type": "execute_result"
    },
    {
     "data": {
      "image/png": "[encoded data removed]",
      "text/plain": [
       "<matplotlib.figure.Figure at 0x1099e9050>"
      ]
     },
     "metadata": {},
     "output_type": "display_data"
    }
   ],
   "source": [
    "normalized_margins.T.plot(yerr=1.96*normalized_margins_stderr.T,\n",
    "                          xlim=(0,21), ylim=(0, 1), rot=0)"
   ]
  },
  {
   "cell_type": "code",
   "execution_count": 36,
   "metadata": {
    "collapsed": false
   },
   "outputs": [
    {
     "data": {
      "text/plain": [
       "u'\\\\begin{tabular}{lrr}\\n\\\\toprule\\n{} &        RGB &     PCloud \\\\\\\\\\n\\\\midrule\\nTraining Examples &            &            \\\\\\\\\\n1                 &  15.606742 &  17.134831 \\\\\\\\\\n10                &  21.813333 &   9.653333 \\\\\\\\\\n20                &  20.105263 &  11.052632 \\\\\\\\\\n\\\\bottomrule\\n\\\\end{tabular}\\n'"
      ]
     },
     "execution_count": 36,
     "metadata": {},
     "output_type": "execute_result"
    }
   ],
   "source": [
    "Ms.T.to_latex()"
   ]
  },
  {
   "cell_type": "markdown",
   "metadata": {
    "collapsed": true
   },
   "source": [
    "# Questions to user "
   ]
  },
  {
   "cell_type": "code",
   "execution_count": 41,
   "metadata": {
    "collapsed": false
   },
   "outputs": [
    {
     "name": "stdout",
     "output_type": "stream",
     "text": [
      "Num questions to user: [29, 30, 14]\n"
     ]
    },
    {
     "data": {
      "image/png": "[encoded data removed]",
      "text/plain": [
       "<matplotlib.figure.Figure at 0x1098fd050>"
      ]
     },
     "metadata": {},
     "output_type": "display_data"
    }
   ],
   "source": [
    "questions = [res.jsd[res.jsd > 0.5].count() for res in results]\n",
    "print \"Num questions to user: {}\".format(questions)\n",
    "num_questions = pd.Series(questions, index=VIEWS)\n",
    "num_questions.index.name = \"Training Examples\"\n",
    "num_questions.plot(kind='bar', rot=0)\n",
    "plt.savefig('num_questions.pdf', grid=None, transparent=False, dpi=300)"
   ]
  },
  {
   "cell_type": "markdown",
   "metadata": {
    "collapsed": true
   },
   "source": [
    "Percentage of questions"
   ]
  },
  {
   "cell_type": "code",
   "execution_count": 38,
   "metadata": {
    "collapsed": false
   },
   "outputs": [
    {
     "name": "stdout",
     "output_type": "stream",
     "text": [
      "[89, 75, 38]\n"
     ]
    },
    {
     "data": {
      "text/plain": [
       "Training Examples\n",
       "1     0.325843\n",
       "10    0.400000\n",
       "20    0.368421\n",
       "dtype: float64"
      ]
     },
     "execution_count": 38,
     "metadata": {},
     "output_type": "execute_result"
    }
   ],
   "source": [
    "lens = [len(res) for res in results]\n",
    "print lens\n",
    "pct_questions = pd.Series(num_questions/lens, index=VIEWS)\n",
    "pct_questions.index.name = \"Training Examples\"\n",
    "pct_questions"
   ]
  },
  {
   "cell_type": "code",
   "execution_count": 40,
   "metadata": {
    "collapsed": false
   },
   "outputs": [
    {
     "data": {
      "image/png": "[encoded data removed]",
      "text/plain": [
       "<matplotlib.figure.Figure at 0x109d45990>"
      ]
     },
     "metadata": {},
     "output_type": "display_data"
    }
   ],
   "source": [
    "pct_questions.plot(kind='bar', ylim=(0,1), rot=0)\n",
    "plt.savefig('pct_questions.pdf', grid=None, transparent=False, dpi=300)"
   ]
  },
  {
   "cell_type": "code",
   "execution_count": null,
   "metadata": {
    "collapsed": true
   },
   "outputs": [],
   "source": []
  },
  {
   "cell_type": "code",
   "execution_count": null,
   "metadata": {
    "collapsed": true
   },
   "outputs": [],
   "source": []
  },
  {
   "cell_type": "code",
   "execution_count": null,
   "metadata": {
    "collapsed": true
   },
   "outputs": [],
   "source": []
  }
 ],
 "metadata": {
  "kernelspec": {
   "display_name": "Python 2",
   "language": "python",
   "name": "python2"
  }
 },
 "nbformat": 4,
 "nbformat_minor": 0
}
