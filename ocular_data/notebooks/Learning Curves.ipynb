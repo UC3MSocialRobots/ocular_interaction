{
 "cells": [
  {
   "cell_type": "code",
   "execution_count": 57,
   "metadata": {
    "collapsed": false
   },
   "outputs": [
    {
     "name": "stdout",
     "output_type": "stream",
     "text": [
      "Populating the interactive namespace from numpy and matplotlib\n"
     ]
    }
   ],
   "source": [
    "from __future__ import division\n",
    "import numpy as np\n",
    "import pandas as pd\n",
    "\n",
    "import seaborn as sns\n",
    "\n",
    "%pylab inline"
   ]
  },
  {
   "cell_type": "code",
   "execution_count": 17,
   "metadata": {
    "collapsed": false
   },
   "outputs": [],
   "source": [
    "categories = {0: 'pelota', 1: 'perro', 2: 'taza', 3: 'tractor'}\n",
    "#rcategories = {v: k for (k, v) in categories}\n",
    "rcategories = {'pelota': 0, 'perro': 1, 'taza': 2, 'tractor': 3}"
   ]
  },
  {
   "cell_type": "code",
   "execution_count": 79,
   "metadata": {
    "collapsed": false
   },
   "outputs": [],
   "source": [
    "views1 = pd.read_csv('../data/results_1_view.csv')\n",
    "views5 = pd.read_csv('../data/results_5_views.csv')\n",
    "views10 = pd.read_csv('../data/results_10_views.csv')\n",
    "views15 = pd.read_csv('../data/results_15_views.csv')\n",
    "views20 = pd.read_csv('../data/results_20_views.csv')\n",
    "data = pd.read_csv('../data/summary_data.csv')\n",
    "\n",
    "results = (views1, views5, views10, views15, data)"
   ]
  },
  {
   "cell_type": "code",
   "execution_count": 80,
   "metadata": {
    "collapsed": false
   },
   "outputs": [
    {
     "name": "stdout",
     "output_type": "stream",
     "text": [
      "            item  pred_combined   pred_rgb  pred_pcloud  entropy_rgb  \\\n",
      "count  89.000000      89.000000  89.000000    89.000000    89.000000   \n",
      "mean   44.000000       1.157303   1.438202     0.741573     0.869677   \n",
      "std    25.836021       0.497696   0.673442     0.574616     0.491294   \n",
      "min     0.000000       0.000000   1.000000     0.000000    -0.000000   \n",
      "25%    22.000000       1.000000   1.000000     0.000000     0.468996   \n",
      "50%    44.000000       1.000000   1.000000     1.000000     0.948078   \n",
      "75%    66.000000       1.000000   2.000000     1.000000     1.286693   \n",
      "max    88.000000       3.000000   3.000000     2.000000     1.664853   \n",
      "\n",
      "       entropy_pcloud  margin_rgb  margin_pcloud        jsd  \n",
      "count       89.000000   82.000000      67.000000  89.000000  \n",
      "mean         0.618434   14.378049      12.910448   0.405736  \n",
      "std          0.407633    9.239796       7.751308   0.266147  \n",
      "min         -0.000000    0.000000       0.000000   0.000000  \n",
      "25%          0.210842    8.000000       7.500000   0.197261  \n",
      "50%          0.721928   13.000000      12.000000   0.344194  \n",
      "75%          0.948078   23.000000      20.000000   0.573118  \n",
      "max          1.373017   28.000000      28.000000   1.000000  \n",
      "\n",
      "-------------------------------------------------------------------------\n",
      "\n",
      "            item  pred_combined   pred_rgb  pred_pcloud  entropy_rgb  \\\n",
      "count  87.000000      87.000000  87.000000    87.000000    87.000000   \n",
      "mean   43.000000       1.183908   0.931034     1.770115     0.959772   \n",
      "std    25.258662       1.253170   1.227524     0.885295     0.495794   \n",
      "min     0.000000       0.000000   0.000000     0.000000    -0.000000   \n",
      "25%    21.500000       0.000000   0.000000     1.000000     0.560825   \n",
      "50%    43.000000       1.000000   0.000000     2.000000     1.032268   \n",
      "75%    64.500000       2.000000   2.000000     2.000000     1.320712   \n",
      "max    86.000000       3.000000   3.000000     3.000000     1.830960   \n",
      "\n",
      "       entropy_pcloud  margin_rgb  margin_pcloud        jsd  \n",
      "count       87.000000     80.0000      75.000000  87.000000  \n",
      "mean         0.950896     14.3500      12.146667   0.442173  \n",
      "std          0.569229      8.5167       7.689398   0.277379  \n",
      "min         -0.000000      0.0000       0.000000   0.007234  \n",
      "25%          0.608266      6.7500       6.000000   0.197315  \n",
      "50%          0.948078     13.0000      12.000000   0.426681  \n",
      "75%          1.396949     21.2500      18.000000   0.590051  \n",
      "max          1.934452     28.0000      28.000000   1.000000  \n",
      "\n",
      "-------------------------------------------------------------------------\n",
      "\n",
      "            item  pred_combined  pred_rgb  pred_pcloud  entropy_rgb  \\\n",
      "count  75.000000      75.000000  75.00000    75.000000    75.000000   \n",
      "mean   37.000000       0.546667   0.56000     1.293333     0.550720   \n",
      "std    21.794495       0.919655   0.96198     0.881849     0.550825   \n",
      "min     0.000000       0.000000   0.00000     0.000000    -0.000000   \n",
      "25%    18.500000       0.000000   0.00000     1.000000    -0.000000   \n",
      "50%    37.000000       0.000000   0.00000     1.000000     0.560825   \n",
      "75%    55.500000       1.000000   1.50000     2.000000     0.967608   \n",
      "max    74.000000       3.000000   3.00000     3.000000     1.752912   \n",
      "\n",
      "       entropy_pcloud  margin_rgb  margin_pcloud        jsd  \n",
      "count       75.000000   46.000000      74.000000  75.000000  \n",
      "mean         1.195665   16.652174       9.378378   0.452959  \n",
      "std          0.443794    7.961623       7.530218   0.272825  \n",
      "min         -0.000000    0.000000       0.000000   0.016870  \n",
      "25%          0.976271   12.000000       4.000000   0.235673  \n",
      "50%          1.212059   17.000000       7.000000   0.370507  \n",
      "75%          1.536961   23.750000      13.000000   0.669412  \n",
      "max          1.898930   28.000000      28.000000   1.000000  \n",
      "\n",
      "-------------------------------------------------------------------------\n",
      "\n",
      "            item  pred_combined   pred_rgb  pred_pcloud  entropy_rgb  \\\n",
      "count  62.000000      62.000000  62.000000    62.000000    62.000000   \n",
      "mean   30.500000       1.000000   0.967742     0.951613     1.201018   \n",
      "std    18.041619       1.086429   1.186920     1.015090     0.436062   \n",
      "min     0.000000       0.000000   0.000000     0.000000    -0.000000   \n",
      "25%    15.250000       0.000000   0.000000     0.000000     0.985391   \n",
      "50%    30.500000       1.000000   0.500000     1.000000     1.304009   \n",
      "75%    45.750000       1.750000   1.750000     1.000000     1.528618   \n",
      "max    61.000000       3.000000   3.000000     3.000000     1.879936   \n",
      "\n",
      "       entropy_pcloud  margin_rgb  margin_pcloud        jsd  \n",
      "count       62.000000   60.000000      62.000000  62.000000  \n",
      "mean         1.189177    9.983333      10.032258   0.289420  \n",
      "std          0.385373    8.015856       7.008116   0.193901  \n",
      "min          0.468996    0.000000       0.000000   0.001403  \n",
      "25%          0.925741    3.000000       5.000000   0.126400  \n",
      "50%          1.241946    7.500000       7.500000   0.256354  \n",
      "75%          1.505823   15.250000      14.000000   0.416598  \n",
      "max          1.913876   26.000000      24.000000   0.757262  \n",
      "\n",
      "-------------------------------------------------------------------------\n",
      "\n",
      "            item  pred_combined   pred_rgb  pred_pcloud  entropy_rgb  \\\n",
      "count  38.000000      38.000000  38.000000    38.000000    38.000000   \n",
      "mean   18.500000       1.526316   1.657895     1.210526     0.654488   \n",
      "std    11.113055       1.032887   0.937977     1.118829     0.585092   \n",
      "min     0.000000       0.000000   0.000000     0.000000    -0.000000   \n",
      "25%     9.250000       1.000000   1.000000     0.000000     0.052711   \n",
      "50%    18.500000       1.000000   1.500000     1.000000     0.559509   \n",
      "75%    27.750000       2.000000   2.000000     2.000000     1.094880   \n",
      "max    37.000000       3.000000   3.000000     3.000000     1.879936   \n",
      "\n",
      "       entropy_pcloud  margin_rgb  margin_pcloud        jsd  \n",
      "count       38.000000   28.000000      34.000000  38.000000  \n",
      "mean         1.250784   16.571429       8.823529   0.467272  \n",
      "std          0.550188    8.288451       5.900542   0.211509  \n",
      "min         -0.000000    1.000000       1.000000   0.003852  \n",
      "25%          1.062525    9.750000       4.000000   0.328821  \n",
      "50%          1.289038   16.000000       7.000000   0.462371  \n",
      "75%          1.585963   26.000000      14.000000   0.627871  \n",
      "max          2.004310   28.000000      21.000000   1.000000  \n",
      "\n",
      "-------------------------------------------------------------------------\n",
      "\n"
     ]
    }
   ],
   "source": [
    "for res in results:\n",
    "    print res.describe()\n",
    "    print \"\\n-------------------------------------------------------------------------\\n\""
   ]
  },
  {
   "cell_type": "code",
   "execution_count": 81,
   "metadata": {
    "collapsed": false
   },
   "outputs": [],
   "source": [
    "for res in results:\n",
    "    res.y = res.y.apply(lambda x: rcategories[x])"
   ]
  },
  {
   "cell_type": "code",
   "execution_count": 82,
   "metadata": {
    "collapsed": false,
    "scrolled": true
   },
   "outputs": [
    {
     "data": {
      "text/html": [
       "<div style=\"max-height:1000px;max-width:1500px;overflow:auto;\">\n",
       "<table border=\"1\" class=\"dataframe\">\n",
       "  <thead>\n",
       "    <tr style=\"text-align: right;\">\n",
       "      <th></th>\n",
       "      <th>0</th>\n",
       "      <th>1</th>\n",
       "      <th>2</th>\n",
       "      <th>3</th>\n",
       "      <th>4</th>\n",
       "      <th>5</th>\n",
       "      <th>6</th>\n",
       "      <th>7</th>\n",
       "      <th>8</th>\n",
       "      <th>9</th>\n",
       "      <th>...</th>\n",
       "      <th>65</th>\n",
       "      <th>66</th>\n",
       "      <th>67</th>\n",
       "      <th>68</th>\n",
       "      <th>69</th>\n",
       "      <th>70</th>\n",
       "      <th>71</th>\n",
       "      <th>72</th>\n",
       "      <th>73</th>\n",
       "      <th>74</th>\n",
       "    </tr>\n",
       "  </thead>\n",
       "  <tbody>\n",
       "    <tr>\n",
       "      <th>y</th>\n",
       "      <td> 0</td>\n",
       "      <td> 0</td>\n",
       "      <td> 0</td>\n",
       "      <td> 0</td>\n",
       "      <td> 0</td>\n",
       "      <td> 0</td>\n",
       "      <td> 0</td>\n",
       "      <td> 0</td>\n",
       "      <td> 0</td>\n",
       "      <td> 0</td>\n",
       "      <td>...</td>\n",
       "      <td> 2</td>\n",
       "      <td> 2</td>\n",
       "      <td> 2</td>\n",
       "      <td> 2</td>\n",
       "      <td> 2</td>\n",
       "      <td> 2</td>\n",
       "      <td> 2</td>\n",
       "      <td> 2</td>\n",
       "      <td> 2</td>\n",
       "      <td> 2</td>\n",
       "    </tr>\n",
       "    <tr>\n",
       "      <th>pred_combined</th>\n",
       "      <td> 0</td>\n",
       "      <td> 0</td>\n",
       "      <td> 0</td>\n",
       "      <td> 0</td>\n",
       "      <td> 0</td>\n",
       "      <td> 0</td>\n",
       "      <td> 0</td>\n",
       "      <td> 0</td>\n",
       "      <td> 0</td>\n",
       "      <td> 0</td>\n",
       "      <td>...</td>\n",
       "      <td> 2</td>\n",
       "      <td> 2</td>\n",
       "      <td> 2</td>\n",
       "      <td> 2</td>\n",
       "      <td> 2</td>\n",
       "      <td> 2</td>\n",
       "      <td> 2</td>\n",
       "      <td> 2</td>\n",
       "      <td> 2</td>\n",
       "      <td> 2</td>\n",
       "    </tr>\n",
       "  </tbody>\n",
       "</table>\n",
       "<p>2 rows × 75 columns</p>\n",
       "</div>"
      ],
      "text/plain": [
       "               0   1   2   3   4   5   6   7   8   9  ...  65  66  67  68  69  \\\n",
       "y               0   0   0   0   0   0   0   0   0   0 ...   2   2   2   2   2   \n",
       "pred_combined   0   0   0   0   0   0   0   0   0   0 ...   2   2   2   2   2   \n",
       "\n",
       "               70  71  72  73  74  \n",
       "y               2   2   2   2   2  \n",
       "pred_combined   2   2   2   2   2  \n",
       "\n",
       "[2 rows x 75 columns]"
      ]
     },
     "execution_count": 82,
     "metadata": {},
     "output_type": "execute_result"
    }
   ],
   "source": [
    "views10.ix[:, 1:3].T"
   ]
  },
  {
   "cell_type": "markdown",
   "metadata": {},
   "source": [
    "#  Metrics"
   ]
  },
  {
   "cell_type": "markdown",
   "metadata": {},
   "source": [
    "## F1-Score and Accuracy"
   ]
  },
  {
   "cell_type": "code",
   "execution_count": 83,
   "metadata": {
    "collapsed": true
   },
   "outputs": [],
   "source": [
    "from sklearn.metrics import f1_score, accuracy_score"
   ]
  },
  {
   "cell_type": "code",
   "execution_count": 84,
   "metadata": {
    "collapsed": false
   },
   "outputs": [
    {
     "name": "stdout",
     "output_type": "stream",
     "text": [
      "Accuracy Combined: \t0.47191011236\n",
      "Accuracy RGB: \t\t0.516853932584\n",
      "Accuracy PCloud: \t0.247191011236\n",
      "--------------------------------------\n",
      "\n",
      "Accuracy Combined: \t0.436781609195\n",
      "Accuracy RGB: \t\t0.448275862069\n",
      "Accuracy PCloud: \t0.275862068966\n",
      "--------------------------------------\n",
      "\n",
      "Accuracy Combined: \t0.373333333333\n",
      "Accuracy RGB: \t\t0.36\n",
      "Accuracy PCloud: \t0.44\n",
      "--------------------------------------\n",
      "\n",
      "Accuracy Combined: \t0.338709677419\n",
      "Accuracy RGB: \t\t0.258064516129\n",
      "Accuracy PCloud: \t0.225806451613\n",
      "--------------------------------------\n",
      "\n",
      "Accuracy Combined: \t0.815789473684\n",
      "Accuracy RGB: \t\t0.763157894737\n",
      "Accuracy PCloud: \t0.289473684211\n",
      "--------------------------------------\n",
      "\n"
     ]
    }
   ],
   "source": [
    "for res in results:\n",
    "    print \"Accuracy Combined: \\t\", accuracy_score(res.y, res.pred_combined)\n",
    "    print \"Accuracy RGB: \\t\\t\", accuracy_score(res.y, res.pred_rgb)\n",
    "    print \"Accuracy PCloud: \\t\", accuracy_score(res.y, res.pred_pcloud)\n",
    "    print \"--------------------------------------\\n\"\n",
    "    "
   ]
  },
  {
   "cell_type": "code",
   "execution_count": 85,
   "metadata": {
    "collapsed": true
   },
   "outputs": [],
   "source": [
    "def get_metric(results, metric):\n",
    "    rgb = []\n",
    "    pcloud = []\n",
    "    combined = []\n",
    "    for res in results:\n",
    "        rgb.append(metric(res.y, res.pred_rgb))\n",
    "        pcloud.append(metric(res.y, res.pred_pcloud))\n",
    "        combined.append(metric(res.y, res.pred_combined))\n",
    "    return pd.DataFrame([rgb, pcloud, combined], index=['RGB', 'PCloud', 'Combined'], columns=[1,5,10,15,'20+'])\n",
    "\n",
    "def print_metric(results, metric, separator='\\t'):\n",
    "    for res in results:\n",
    "        print metric.__name__, \"Combined:\", separator, metric(res.y, res.pred_combined)\n",
    "        print metric.__name__, \"RGB:\", separator, metric(res.y, res.pred_rgb)\n",
    "        print metric.__name__, \"PCloud:t\", separator, metric(res.y, res.pred_pcloud)\n",
    "        print \"--------------------------------------\\n\"\n",
    "        "
   ]
  },
  {
   "cell_type": "code",
   "execution_count": 86,
   "metadata": {
    "collapsed": false
   },
   "outputs": [
    {
     "name": "stdout",
     "output_type": "stream",
     "text": [
      "f1_score Combined: \t0.375909083685\n",
      "f1_score RGB: \t0.440498290181\n",
      "f1_score PCloud:t \t0.238319342202\n",
      "--------------------------------------\n",
      "\n",
      "f1_score Combined: \t0.369932881229\n",
      "f1_score RGB: \t0.400689371353\n",
      "f1_score PCloud:t \t0.259842842962\n",
      "--------------------------------------\n",
      "\n",
      "f1_score Combined: \t0.303701631702\n",
      "f1_score RGB: \t0.296219336219\n",
      "f1_score PCloud:t \t0.40562925599\n",
      "--------------------------------------\n",
      "\n",
      "f1_score Combined: \t0.362211981567\n",
      "f1_score RGB: \t0.284818691745\n",
      "f1_score PCloud:t \t0.243461585046\n",
      "--------------------------------------\n",
      "\n",
      "f1_score Combined: \t0.82347015865\n",
      "f1_score RGB: \t0.748269939138\n",
      "f1_score PCloud:t \t0.256467741362\n",
      "--------------------------------------\n",
      "\n"
     ]
    },
    {
     "name": "stderr",
     "output_type": "stream",
     "text": [
      "/usr/local/lib/python2.7/dist-packages/sklearn/metrics/classification.py:676: DeprecationWarning: The default `weighted` averaging is deprecated, and from version 0.18, use of precision, recall or F-score with multiclass or multilabel data or pos_label=None will result in an exception. Please set an explicit value for `average`, one of (None, 'micro', 'macro', 'weighted', 'samples'). In cross validation use, for instance, scoring=\"f1_weighted\" instead of scoring=\"f1\".\n",
      "  sample_weight=sample_weight)\n",
      "/usr/local/lib/python2.7/dist-packages/sklearn/metrics/classification.py:676: DeprecationWarning: The default `weighted` averaging is deprecated, and from version 0.18, use of precision, recall or F-score with multiclass or multilabel data or pos_label=None will result in an exception. Please set an explicit value for `average`, one of (None, 'micro', 'macro', 'weighted', 'samples'). In cross validation use, for instance, scoring=\"f1_weighted\" instead of scoring=\"f1\".\n",
      "  sample_weight=sample_weight)\n",
      "/usr/local/lib/python2.7/dist-packages/sklearn/metrics/classification.py:676: DeprecationWarning: The default `weighted` averaging is deprecated, and from version 0.18, use of precision, recall or F-score with multiclass or multilabel data or pos_label=None will result in an exception. Please set an explicit value for `average`, one of (None, 'micro', 'macro', 'weighted', 'samples'). In cross validation use, for instance, scoring=\"f1_weighted\" instead of scoring=\"f1\".\n",
      "  sample_weight=sample_weight)\n",
      "/usr/local/lib/python2.7/dist-packages/sklearn/metrics/classification.py:676: DeprecationWarning: The default `weighted` averaging is deprecated, and from version 0.18, use of precision, recall or F-score with multiclass or multilabel data or pos_label=None will result in an exception. Please set an explicit value for `average`, one of (None, 'micro', 'macro', 'weighted', 'samples'). In cross validation use, for instance, scoring=\"f1_weighted\" instead of scoring=\"f1\".\n",
      "  sample_weight=sample_weight)\n",
      "/usr/local/lib/python2.7/dist-packages/sklearn/metrics/classification.py:676: DeprecationWarning: The default `weighted` averaging is deprecated, and from version 0.18, use of precision, recall or F-score with multiclass or multilabel data or pos_label=None will result in an exception. Please set an explicit value for `average`, one of (None, 'micro', 'macro', 'weighted', 'samples'). In cross validation use, for instance, scoring=\"f1_weighted\" instead of scoring=\"f1\".\n",
      "  sample_weight=sample_weight)\n",
      "/usr/local/lib/python2.7/dist-packages/sklearn/metrics/classification.py:676: DeprecationWarning: The default `weighted` averaging is deprecated, and from version 0.18, use of precision, recall or F-score with multiclass or multilabel data or pos_label=None will result in an exception. Please set an explicit value for `average`, one of (None, 'micro', 'macro', 'weighted', 'samples'). In cross validation use, for instance, scoring=\"f1_weighted\" instead of scoring=\"f1\".\n",
      "  sample_weight=sample_weight)\n",
      "/usr/local/lib/python2.7/dist-packages/sklearn/metrics/classification.py:676: DeprecationWarning: The default `weighted` averaging is deprecated, and from version 0.18, use of precision, recall or F-score with multiclass or multilabel data or pos_label=None will result in an exception. Please set an explicit value for `average`, one of (None, 'micro', 'macro', 'weighted', 'samples'). In cross validation use, for instance, scoring=\"f1_weighted\" instead of scoring=\"f1\".\n",
      "  sample_weight=sample_weight)\n",
      "/usr/local/lib/python2.7/dist-packages/sklearn/metrics/classification.py:676: DeprecationWarning: The default `weighted` averaging is deprecated, and from version 0.18, use of precision, recall or F-score with multiclass or multilabel data or pos_label=None will result in an exception. Please set an explicit value for `average`, one of (None, 'micro', 'macro', 'weighted', 'samples'). In cross validation use, for instance, scoring=\"f1_weighted\" instead of scoring=\"f1\".\n",
      "  sample_weight=sample_weight)\n",
      "/usr/local/lib/python2.7/dist-packages/sklearn/metrics/classification.py:676: DeprecationWarning: The default `weighted` averaging is deprecated, and from version 0.18, use of precision, recall or F-score with multiclass or multilabel data or pos_label=None will result in an exception. Please set an explicit value for `average`, one of (None, 'micro', 'macro', 'weighted', 'samples'). In cross validation use, for instance, scoring=\"f1_weighted\" instead of scoring=\"f1\".\n",
      "  sample_weight=sample_weight)\n",
      "/usr/local/lib/python2.7/dist-packages/sklearn/metrics/classification.py:676: DeprecationWarning: The default `weighted` averaging is deprecated, and from version 0.18, use of precision, recall or F-score with multiclass or multilabel data or pos_label=None will result in an exception. Please set an explicit value for `average`, one of (None, 'micro', 'macro', 'weighted', 'samples'). In cross validation use, for instance, scoring=\"f1_weighted\" instead of scoring=\"f1\".\n",
      "  sample_weight=sample_weight)\n",
      "/usr/local/lib/python2.7/dist-packages/sklearn/metrics/classification.py:676: DeprecationWarning: The default `weighted` averaging is deprecated, and from version 0.18, use of precision, recall or F-score with multiclass or multilabel data or pos_label=None will result in an exception. Please set an explicit value for `average`, one of (None, 'micro', 'macro', 'weighted', 'samples'). In cross validation use, for instance, scoring=\"f1_weighted\" instead of scoring=\"f1\".\n",
      "  sample_weight=sample_weight)\n",
      "/usr/local/lib/python2.7/dist-packages/sklearn/metrics/classification.py:676: DeprecationWarning: The default `weighted` averaging is deprecated, and from version 0.18, use of precision, recall or F-score with multiclass or multilabel data or pos_label=None will result in an exception. Please set an explicit value for `average`, one of (None, 'micro', 'macro', 'weighted', 'samples'). In cross validation use, for instance, scoring=\"f1_weighted\" instead of scoring=\"f1\".\n",
      "  sample_weight=sample_weight)\n",
      "/usr/local/lib/python2.7/dist-packages/sklearn/metrics/classification.py:676: DeprecationWarning: The default `weighted` averaging is deprecated, and from version 0.18, use of precision, recall or F-score with multiclass or multilabel data or pos_label=None will result in an exception. Please set an explicit value for `average`, one of (None, 'micro', 'macro', 'weighted', 'samples'). In cross validation use, for instance, scoring=\"f1_weighted\" instead of scoring=\"f1\".\n",
      "  sample_weight=sample_weight)\n",
      "/usr/local/lib/python2.7/dist-packages/sklearn/metrics/classification.py:676: DeprecationWarning: The default `weighted` averaging is deprecated, and from version 0.18, use of precision, recall or F-score with multiclass or multilabel data or pos_label=None will result in an exception. Please set an explicit value for `average`, one of (None, 'micro', 'macro', 'weighted', 'samples'). In cross validation use, for instance, scoring=\"f1_weighted\" instead of scoring=\"f1\".\n",
      "  sample_weight=sample_weight)\n",
      "/usr/local/lib/python2.7/dist-packages/sklearn/metrics/classification.py:676: DeprecationWarning: The default `weighted` averaging is deprecated, and from version 0.18, use of precision, recall or F-score with multiclass or multilabel data or pos_label=None will result in an exception. Please set an explicit value for `average`, one of (None, 'micro', 'macro', 'weighted', 'samples'). In cross validation use, for instance, scoring=\"f1_weighted\" instead of scoring=\"f1\".\n",
      "  sample_weight=sample_weight)\n"
     ]
    }
   ],
   "source": [
    "print_metric(results, f1_score)\n",
    "\n"
   ]
  },
  {
   "cell_type": "code",
   "execution_count": 87,
   "metadata": {
    "collapsed": false
   },
   "outputs": [
    {
     "name": "stderr",
     "output_type": "stream",
     "text": [
      "/usr/local/lib/python2.7/dist-packages/sklearn/metrics/classification.py:676: DeprecationWarning: The default `weighted` averaging is deprecated, and from version 0.18, use of precision, recall or F-score with multiclass or multilabel data or pos_label=None will result in an exception. Please set an explicit value for `average`, one of (None, 'micro', 'macro', 'weighted', 'samples'). In cross validation use, for instance, scoring=\"f1_weighted\" instead of scoring=\"f1\".\n",
      "  sample_weight=sample_weight)\n",
      "/usr/local/lib/python2.7/dist-packages/sklearn/metrics/classification.py:676: DeprecationWarning: The default `weighted` averaging is deprecated, and from version 0.18, use of precision, recall or F-score with multiclass or multilabel data or pos_label=None will result in an exception. Please set an explicit value for `average`, one of (None, 'micro', 'macro', 'weighted', 'samples'). In cross validation use, for instance, scoring=\"f1_weighted\" instead of scoring=\"f1\".\n",
      "  sample_weight=sample_weight)\n",
      "/usr/local/lib/python2.7/dist-packages/sklearn/metrics/classification.py:676: DeprecationWarning: The default `weighted` averaging is deprecated, and from version 0.18, use of precision, recall or F-score with multiclass or multilabel data or pos_label=None will result in an exception. Please set an explicit value for `average`, one of (None, 'micro', 'macro', 'weighted', 'samples'). In cross validation use, for instance, scoring=\"f1_weighted\" instead of scoring=\"f1\".\n",
      "  sample_weight=sample_weight)\n",
      "/usr/local/lib/python2.7/dist-packages/sklearn/metrics/classification.py:676: DeprecationWarning: The default `weighted` averaging is deprecated, and from version 0.18, use of precision, recall or F-score with multiclass or multilabel data or pos_label=None will result in an exception. Please set an explicit value for `average`, one of (None, 'micro', 'macro', 'weighted', 'samples'). In cross validation use, for instance, scoring=\"f1_weighted\" instead of scoring=\"f1\".\n",
      "  sample_weight=sample_weight)\n",
      "/usr/local/lib/python2.7/dist-packages/sklearn/metrics/classification.py:676: DeprecationWarning: The default `weighted` averaging is deprecated, and from version 0.18, use of precision, recall or F-score with multiclass or multilabel data or pos_label=None will result in an exception. Please set an explicit value for `average`, one of (None, 'micro', 'macro', 'weighted', 'samples'). In cross validation use, for instance, scoring=\"f1_weighted\" instead of scoring=\"f1\".\n",
      "  sample_weight=sample_weight)\n",
      "/usr/local/lib/python2.7/dist-packages/sklearn/metrics/classification.py:676: DeprecationWarning: The default `weighted` averaging is deprecated, and from version 0.18, use of precision, recall or F-score with multiclass or multilabel data or pos_label=None will result in an exception. Please set an explicit value for `average`, one of (None, 'micro', 'macro', 'weighted', 'samples'). In cross validation use, for instance, scoring=\"f1_weighted\" instead of scoring=\"f1\".\n",
      "  sample_weight=sample_weight)\n",
      "/usr/local/lib/python2.7/dist-packages/sklearn/metrics/classification.py:676: DeprecationWarning: The default `weighted` averaging is deprecated, and from version 0.18, use of precision, recall or F-score with multiclass or multilabel data or pos_label=None will result in an exception. Please set an explicit value for `average`, one of (None, 'micro', 'macro', 'weighted', 'samples'). In cross validation use, for instance, scoring=\"f1_weighted\" instead of scoring=\"f1\".\n",
      "  sample_weight=sample_weight)\n",
      "/usr/local/lib/python2.7/dist-packages/sklearn/metrics/classification.py:676: DeprecationWarning: The default `weighted` averaging is deprecated, and from version 0.18, use of precision, recall or F-score with multiclass or multilabel data or pos_label=None will result in an exception. Please set an explicit value for `average`, one of (None, 'micro', 'macro', 'weighted', 'samples'). In cross validation use, for instance, scoring=\"f1_weighted\" instead of scoring=\"f1\".\n",
      "  sample_weight=sample_weight)\n",
      "/usr/local/lib/python2.7/dist-packages/sklearn/metrics/classification.py:676: DeprecationWarning: The default `weighted` averaging is deprecated, and from version 0.18, use of precision, recall or F-score with multiclass or multilabel data or pos_label=None will result in an exception. Please set an explicit value for `average`, one of (None, 'micro', 'macro', 'weighted', 'samples'). In cross validation use, for instance, scoring=\"f1_weighted\" instead of scoring=\"f1\".\n",
      "  sample_weight=sample_weight)\n",
      "/usr/local/lib/python2.7/dist-packages/sklearn/metrics/classification.py:676: DeprecationWarning: The default `weighted` averaging is deprecated, and from version 0.18, use of precision, recall or F-score with multiclass or multilabel data or pos_label=None will result in an exception. Please set an explicit value for `average`, one of (None, 'micro', 'macro', 'weighted', 'samples'). In cross validation use, for instance, scoring=\"f1_weighted\" instead of scoring=\"f1\".\n",
      "  sample_weight=sample_weight)\n",
      "/usr/local/lib/python2.7/dist-packages/sklearn/metrics/classification.py:676: DeprecationWarning: The default `weighted` averaging is deprecated, and from version 0.18, use of precision, recall or F-score with multiclass or multilabel data or pos_label=None will result in an exception. Please set an explicit value for `average`, one of (None, 'micro', 'macro', 'weighted', 'samples'). In cross validation use, for instance, scoring=\"f1_weighted\" instead of scoring=\"f1\".\n",
      "  sample_weight=sample_weight)\n",
      "/usr/local/lib/python2.7/dist-packages/sklearn/metrics/classification.py:676: DeprecationWarning: The default `weighted` averaging is deprecated, and from version 0.18, use of precision, recall or F-score with multiclass or multilabel data or pos_label=None will result in an exception. Please set an explicit value for `average`, one of (None, 'micro', 'macro', 'weighted', 'samples'). In cross validation use, for instance, scoring=\"f1_weighted\" instead of scoring=\"f1\".\n",
      "  sample_weight=sample_weight)\n",
      "/usr/local/lib/python2.7/dist-packages/sklearn/metrics/classification.py:676: DeprecationWarning: The default `weighted` averaging is deprecated, and from version 0.18, use of precision, recall or F-score with multiclass or multilabel data or pos_label=None will result in an exception. Please set an explicit value for `average`, one of (None, 'micro', 'macro', 'weighted', 'samples'). In cross validation use, for instance, scoring=\"f1_weighted\" instead of scoring=\"f1\".\n",
      "  sample_weight=sample_weight)\n",
      "/usr/local/lib/python2.7/dist-packages/sklearn/metrics/classification.py:676: DeprecationWarning: The default `weighted` averaging is deprecated, and from version 0.18, use of precision, recall or F-score with multiclass or multilabel data or pos_label=None will result in an exception. Please set an explicit value for `average`, one of (None, 'micro', 'macro', 'weighted', 'samples'). In cross validation use, for instance, scoring=\"f1_weighted\" instead of scoring=\"f1\".\n",
      "  sample_weight=sample_weight)\n",
      "/usr/local/lib/python2.7/dist-packages/sklearn/metrics/classification.py:676: DeprecationWarning: The default `weighted` averaging is deprecated, and from version 0.18, use of precision, recall or F-score with multiclass or multilabel data or pos_label=None will result in an exception. Please set an explicit value for `average`, one of (None, 'micro', 'macro', 'weighted', 'samples'). In cross validation use, for instance, scoring=\"f1_weighted\" instead of scoring=\"f1\".\n",
      "  sample_weight=sample_weight)\n"
     ]
    },
    {
     "data": {
      "text/html": [
       "<div style=\"max-height:1000px;max-width:1500px;overflow:auto;\">\n",
       "<table border=\"1\" class=\"dataframe\">\n",
       "  <thead>\n",
       "    <tr style=\"text-align: right;\">\n",
       "      <th></th>\n",
       "      <th>1</th>\n",
       "      <th>5</th>\n",
       "      <th>10</th>\n",
       "      <th>15</th>\n",
       "      <th>20+</th>\n",
       "    </tr>\n",
       "  </thead>\n",
       "  <tbody>\n",
       "    <tr>\n",
       "      <th>RGB</th>\n",
       "      <td> 0.440498</td>\n",
       "      <td> 0.400689</td>\n",
       "      <td> 0.296219</td>\n",
       "      <td> 0.284819</td>\n",
       "      <td> 0.748270</td>\n",
       "    </tr>\n",
       "    <tr>\n",
       "      <th>PCloud</th>\n",
       "      <td> 0.238319</td>\n",
       "      <td> 0.259843</td>\n",
       "      <td> 0.405629</td>\n",
       "      <td> 0.243462</td>\n",
       "      <td> 0.256468</td>\n",
       "    </tr>\n",
       "    <tr>\n",
       "      <th>Combined</th>\n",
       "      <td> 0.375909</td>\n",
       "      <td> 0.369933</td>\n",
       "      <td> 0.303702</td>\n",
       "      <td> 0.362212</td>\n",
       "      <td> 0.823470</td>\n",
       "    </tr>\n",
       "  </tbody>\n",
       "</table>\n",
       "</div>"
      ],
      "text/plain": [
       "                 1         5        10        15       20+\n",
       "RGB       0.440498  0.400689  0.296219  0.284819  0.748270\n",
       "PCloud    0.238319  0.259843  0.405629  0.243462  0.256468\n",
       "Combined  0.375909  0.369933  0.303702  0.362212  0.823470"
      ]
     },
     "execution_count": 87,
     "metadata": {},
     "output_type": "execute_result"
    }
   ],
   "source": [
    "f1s = get_metric(results, f1_score)\n",
    "f1s"
   ]
  },
  {
   "cell_type": "code",
   "execution_count": 88,
   "metadata": {
    "collapsed": false
   },
   "outputs": [
    {
     "data": {
      "text/plain": [
       "<matplotlib.axes.AxesSubplot at 0xbf0fe4c>"
      ]
     },
     "execution_count": 88,
     "metadata": {},
     "output_type": "execute_result"
    },
    {
     "data": {
      "image/png": "[encoded data removed]",
      "text/plain": [
       "<matplotlib.figure.Figure at 0xbf0d44c>"
      ]
     },
     "metadata": {},
     "output_type": "display_data"
    }
   ],
   "source": [
    "f1s.T.plot(kind='bar')"
   ]
  },
  {
   "cell_type": "code",
   "execution_count": 89,
   "metadata": {
    "collapsed": false
   },
   "outputs": [
    {
     "data": {
      "text/plain": [
       "<matplotlib.axes.AxesSubplot at 0xb96b1ac>"
      ]
     },
     "execution_count": 89,
     "metadata": {},
     "output_type": "execute_result"
    },
    {
     "data": {
      "image/png": "[encoded data removed]",
      "text/plain": [
       "<matplotlib.figure.Figure at 0xbfed7cc>"
      ]
     },
     "metadata": {},
     "output_type": "display_data"
    }
   ],
   "source": [
    "f1s.T.plot()"
   ]
  },
  {
   "cell_type": "markdown",
   "metadata": {},
   "source": [
    "## Confusion Matrix"
   ]
  },
  {
   "cell_type": "code",
   "execution_count": 74,
   "metadata": {
    "collapsed": true
   },
   "outputs": [],
   "source": [
    "from sklearn.metrics import confusion_matrix"
   ]
  },
  {
   "cell_type": "code",
   "execution_count": 40,
   "metadata": {
    "collapsed": false
   },
   "outputs": [
    {
     "name": "stdout",
     "output_type": "stream",
     "text": [
      "confusion_matrix Combined: \n",
      "[[ 0 16  0  0]\n",
      " [ 0 30  3  0]\n",
      " [ 0  8 11  0]\n",
      " [ 4 14  2  1]]\n",
      "confusion_matrix RGB: \n",
      "[[ 0 13  0  3]\n",
      " [ 0 29  4  0]\n",
      " [ 0  6 12  1]\n",
      " [ 0 11  5  5]]\n",
      "confusion_matrix PCloud:t \n",
      "[[ 1 15  0  0]\n",
      " [18 15  0  0]\n",
      " [ 0 13  6  0]\n",
      " [10 11  0  0]]\n",
      "--------------------------------------\n",
      "\n",
      "confusion_matrix Combined: \n",
      "[[11  0  0  4]\n",
      " [30  0  2  0]\n",
      " [ 0  2 15  2]\n",
      " [ 2  1  6 12]]\n",
      "confusion_matrix RGB: \n",
      "[[14  0  0  1]\n",
      " [32  0  0  0]\n",
      " [ 0  3 13  3]\n",
      " [ 6  2  1 12]]\n",
      "confusion_matrix PCloud:t \n",
      "[[ 6  0  0  9]\n",
      " [ 3  5 21  3]\n",
      " [ 0  7 11  1]\n",
      " [ 2  1 16  2]]\n",
      "--------------------------------------\n",
      "\n",
      "confusion_matrix Combined: \n",
      "[[11  0  0  0]\n",
      " [29  0  0  0]\n",
      " [ 1  1 15  0]\n",
      " [13  2  1  2]]\n",
      "confusion_matrix RGB: \n",
      "[[10  1  0  0]\n",
      " [29  0  0  0]\n",
      " [ 1  0 15  1]\n",
      " [15  0  1  2]]\n",
      "confusion_matrix PCloud:t \n",
      "[[ 7  0  0  4]\n",
      " [ 6 13  8  2]\n",
      " [ 0  5 12  0]\n",
      " [ 1 14  2  1]]\n",
      "--------------------------------------\n",
      "\n",
      "confusion_matrix Combined: \n",
      "[[ 4  1  0  4]\n",
      " [ 7 11  0  6]\n",
      " [ 2  6  6  0]\n",
      " [13  2  0  0]]\n",
      "confusion_matrix RGB: \n",
      "[[ 4  2  0  3]\n",
      " [ 7  8  0  9]\n",
      " [ 7  4  3  0]\n",
      " [13  1  0  1]]\n",
      "confusion_matrix PCloud:t \n",
      "[[ 3  0  0  6]\n",
      " [17  5  0  2]\n",
      " [ 1  7  6  0]\n",
      " [ 4 11  0  0]]\n",
      "--------------------------------------\n",
      "\n",
      "confusion_matrix Combined: \n",
      "[[ 2  5  1  0]\n",
      " [ 2 15  3  0]\n",
      " [ 7  0  2  4]\n",
      " [ 9  3  1  0]]\n",
      "confusion_matrix RGB: \n",
      "[[ 3  1  4  0]\n",
      " [ 1 16  3  0]\n",
      " [ 6  0  1  6]\n",
      " [12  0  1  0]]\n",
      "confusion_matrix PCloud:t \n",
      "[[0 8 0 0]\n",
      " [5 8 1 6]\n",
      " [3 6 3 1]\n",
      " [2 6 3 2]]\n",
      "--------------------------------------\n",
      "\n"
     ]
    }
   ],
   "source": [
    "print_metric(results, confusion_matrix, separator='\\n')"
   ]
  },
  {
   "cell_type": "code",
   "execution_count": 12,
   "metadata": {
    "collapsed": false
   },
   "outputs": [
    {
     "data": {
      "text/plain": [
       "array([[ 2,  0,  3,  0],\n",
       "       [ 0, 15,  0,  0],\n",
       "       [ 3,  0,  5,  0],\n",
       "       [ 1,  0,  0,  9]])"
      ]
     },
     "execution_count": 12,
     "metadata": {},
     "output_type": "execute_result"
    }
   ],
   "source": [
    "cmat = confusion_matrix(data.y, data.pred_combined)\n",
    "cmat"
   ]
  },
  {
   "cell_type": "code",
   "execution_count": 13,
   "metadata": {
    "collapsed": true
   },
   "outputs": [],
   "source": [
    "catnames = ['pelota', 'perro', 'taza', 'tractor']"
   ]
  },
  {
   "cell_type": "code",
   "execution_count": 14,
   "metadata": {
    "collapsed": false
   },
   "outputs": [
    {
     "data": {
      "text/html": [
       "<div style=\"max-height:1000px;max-width:1500px;overflow:auto;\">\n",
       "<table border=\"1\" class=\"dataframe\">\n",
       "  <thead>\n",
       "    <tr style=\"text-align: right;\">\n",
       "      <th></th>\n",
       "      <th>pelota</th>\n",
       "      <th>perro</th>\n",
       "      <th>taza</th>\n",
       "      <th>tractor</th>\n",
       "    </tr>\n",
       "  </thead>\n",
       "  <tbody>\n",
       "    <tr>\n",
       "      <th>pelota</th>\n",
       "      <td> 2</td>\n",
       "      <td>  0</td>\n",
       "      <td> 3</td>\n",
       "      <td> 0</td>\n",
       "    </tr>\n",
       "    <tr>\n",
       "      <th>perro</th>\n",
       "      <td> 0</td>\n",
       "      <td> 15</td>\n",
       "      <td> 0</td>\n",
       "      <td> 0</td>\n",
       "    </tr>\n",
       "    <tr>\n",
       "      <th>taza</th>\n",
       "      <td> 3</td>\n",
       "      <td>  0</td>\n",
       "      <td> 5</td>\n",
       "      <td> 0</td>\n",
       "    </tr>\n",
       "    <tr>\n",
       "      <th>tractor</th>\n",
       "      <td> 1</td>\n",
       "      <td>  0</td>\n",
       "      <td> 0</td>\n",
       "      <td> 9</td>\n",
       "    </tr>\n",
       "  </tbody>\n",
       "</table>\n",
       "</div>"
      ],
      "text/plain": [
       "         pelota  perro  taza  tractor\n",
       "pelota        2      0     3        0\n",
       "perro         0     15     0        0\n",
       "taza          3      0     5        0\n",
       "tractor       1      0     0        9"
      ]
     },
     "execution_count": 14,
     "metadata": {},
     "output_type": "execute_result"
    }
   ],
   "source": [
    "pcm = pd.DataFrame(cmat, index=catnames, columns=catnames)\n",
    "pcm"
   ]
  },
  {
   "cell_type": "markdown",
   "metadata": {},
   "source": [
    "##  Normalized Confusion Matrix"
   ]
  },
  {
   "cell_type": "code",
   "execution_count": 15,
   "metadata": {
    "collapsed": false
   },
   "outputs": [
    {
     "data": {
      "text/plain": [
       "array([[ 0.4  ,  0.   ,  0.6  ,  0.   ],\n",
       "       [ 0.   ,  1.   ,  0.   ,  0.   ],\n",
       "       [ 0.375,  0.   ,  0.625,  0.   ],\n",
       "       [ 0.1  ,  0.   ,  0.   ,  0.9  ]])"
      ]
     },
     "execution_count": 15,
     "metadata": {},
     "output_type": "execute_result"
    }
   ],
   "source": [
    "normalized = np.zeros([4,4])\n",
    "for index, row in enumerate(cmat):\n",
    "    normalized[index] = np.true_divide(row, sum(row))\n",
    "normalized"
   ]
  },
  {
   "cell_type": "code",
   "execution_count": 16,
   "metadata": {
    "collapsed": false
   },
   "outputs": [
    {
     "data": {
      "text/html": [
       "<div style=\"max-height:1000px;max-width:1500px;overflow:auto;\">\n",
       "<table border=\"1\" class=\"dataframe\">\n",
       "  <thead>\n",
       "    <tr style=\"text-align: right;\">\n",
       "      <th></th>\n",
       "      <th>pelota</th>\n",
       "      <th>perro</th>\n",
       "      <th>taza</th>\n",
       "      <th>tractor</th>\n",
       "    </tr>\n",
       "  </thead>\n",
       "  <tbody>\n",
       "    <tr>\n",
       "      <th>pelota</th>\n",
       "      <td> 0.40</td>\n",
       "      <td> 0</td>\n",
       "      <td> 0.60</td>\n",
       "      <td> 0.0</td>\n",
       "    </tr>\n",
       "    <tr>\n",
       "      <th>perro</th>\n",
       "      <td> 0.00</td>\n",
       "      <td> 1</td>\n",
       "      <td> 0.00</td>\n",
       "      <td> 0.0</td>\n",
       "    </tr>\n",
       "    <tr>\n",
       "      <th>taza</th>\n",
       "      <td> 0.38</td>\n",
       "      <td> 0</td>\n",
       "      <td> 0.62</td>\n",
       "      <td> 0.0</td>\n",
       "    </tr>\n",
       "    <tr>\n",
       "      <th>tractor</th>\n",
       "      <td> 0.10</td>\n",
       "      <td> 0</td>\n",
       "      <td> 0.00</td>\n",
       "      <td> 0.9</td>\n",
       "    </tr>\n",
       "  </tbody>\n",
       "</table>\n",
       "</div>"
      ],
      "text/plain": [
       "         pelota  perro  taza  tractor\n",
       "pelota     0.40      0  0.60      0.0\n",
       "perro      0.00      1  0.00      0.0\n",
       "taza       0.38      0  0.62      0.0\n",
       "tractor    0.10      0  0.00      0.9"
      ]
     },
     "execution_count": 16,
     "metadata": {},
     "output_type": "execute_result"
    }
   ],
   "source": [
    "cm_normalized = pd.DataFrame(normalized, index=catnames, columns=catnames)\n",
    "cm_normalized = cm_normalized.apply(np.round, args=(2,))\n",
    "cm_normalized"
   ]
  },
  {
   "cell_type": "code",
   "execution_count": 17,
   "metadata": {
    "collapsed": false
   },
   "outputs": [
    {
     "data": {
      "text/plain": [
       "0.72999999999999998"
      ]
     },
     "execution_count": 17,
     "metadata": {},
     "output_type": "execute_result"
    }
   ],
   "source": [
    "cm_normalized.values.diagonal().mean()"
   ]
  },
  {
   "cell_type": "code",
   "execution_count": 18,
   "metadata": {
    "collapsed": true
   },
   "outputs": [],
   "source": [
    "from sklearn.metrics import precision_score, recall_score"
   ]
  },
  {
   "cell_type": "code",
   "execution_count": null,
   "metadata": {
    "collapsed": true
   },
   "outputs": [],
   "source": []
  }
 ],
 "metadata": {
  "kernelspec": {
   "display_name": "Python 2",
   "language": "python",
   "name": "python2"
  },
  "language_info": {
   "codemirror_mode": {
    "name": "ipython",
    "version": 2
   },
   "file_extension": ".py",
   "mimetype": "text/x-python",
   "name": "python",
   "nbconvert_exporter": "python",
   "pygments_lexer": "ipython2",
   "version": "2.7.3"
  }
 },
 "nbformat": 4,
 "nbformat_minor": 0
}
