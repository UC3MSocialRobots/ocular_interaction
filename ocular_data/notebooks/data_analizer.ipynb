{
 "cells": [
  {
   "cell_type": "code",
   "execution_count": 1,
   "metadata": {
    "collapsed": false
   },
   "outputs": [
    {
     "name": "stdout",
     "output_type": "stream",
     "text": [
      "Populating the interactive namespace from numpy and matplotlib\n"
     ]
    }
   ],
   "source": [
    "from __future__ import division\n",
    "import numpy as np\n",
    "import pandas as pd\n",
    "\n",
    "%pylab inline"
   ]
  },
  {
   "cell_type": "code",
   "execution_count": 2,
   "metadata": {
    "collapsed": false
   },
   "outputs": [],
   "source": [
    "categories = {0: 'pelota', 1: 'perro', 2: 'taza', 3: 'tractor'}\n",
    "#rcategories = {v: k for (k, v) in categories}\n",
    "rcategories = {'pelota': 0, 'perro': 1, 'taza': 2, 'tractor': 3}"
   ]
  },
  {
   "cell_type": "code",
   "execution_count": 3,
   "metadata": {
    "collapsed": false
   },
   "outputs": [],
   "source": [
    "\n",
    "data = pd.read_csv('../data/summary_data.csv')"
   ]
  },
  {
   "cell_type": "code",
   "execution_count": 4,
   "metadata": {
    "collapsed": false
   },
   "outputs": [
    {
     "data": {
      "text/html": [
       "<div style=\"max-height:1000px;max-width:1500px;overflow:auto;\">\n",
       "<table border=\"1\" class=\"dataframe\">\n",
       "  <thead>\n",
       "    <tr style=\"text-align: right;\">\n",
       "      <th></th>\n",
       "      <th>item</th>\n",
       "      <th>pred_combined</th>\n",
       "      <th>pred_rgb</th>\n",
       "      <th>pred_pcloud</th>\n",
       "      <th>entropy_rgb</th>\n",
       "      <th>entropy_pcloud</th>\n",
       "      <th>margin_rgb</th>\n",
       "      <th>margin_pcloud</th>\n",
       "      <th>jsd</th>\n",
       "    </tr>\n",
       "  </thead>\n",
       "  <tbody>\n",
       "    <tr>\n",
       "      <th>count</th>\n",
       "      <td> 36.000000</td>\n",
       "      <td> 36.000000</td>\n",
       "      <td> 36.000000</td>\n",
       "      <td> 36.000000</td>\n",
       "      <td> 36.000000</td>\n",
       "      <td> 36.000000</td>\n",
       "      <td> 24.000000</td>\n",
       "      <td> 32.000000</td>\n",
       "      <td> 36.000000</td>\n",
       "    </tr>\n",
       "    <tr>\n",
       "      <th>mean</th>\n",
       "      <td> 19.972222</td>\n",
       "      <td>  0.750000</td>\n",
       "      <td>  0.555556</td>\n",
       "      <td>  1.805556</td>\n",
       "      <td>  0.960005</td>\n",
       "      <td>  1.158972</td>\n",
       "      <td>  8.125000</td>\n",
       "      <td> 10.156250</td>\n",
       "      <td>  0.473451</td>\n",
       "    </tr>\n",
       "    <tr>\n",
       "      <th>std</th>\n",
       "      <td> 10.976562</td>\n",
       "      <td>  1.105183</td>\n",
       "      <td>  0.998411</td>\n",
       "      <td>  0.980363</td>\n",
       "      <td>  0.738291</td>\n",
       "      <td>  0.551464</td>\n",
       "      <td>  6.347286</td>\n",
       "      <td>  6.555517</td>\n",
       "      <td>  0.246514</td>\n",
       "    </tr>\n",
       "    <tr>\n",
       "      <th>min</th>\n",
       "      <td>  2.000000</td>\n",
       "      <td>  0.000000</td>\n",
       "      <td>  0.000000</td>\n",
       "      <td>  0.000000</td>\n",
       "      <td> -0.000000</td>\n",
       "      <td> -0.000000</td>\n",
       "      <td>  0.000000</td>\n",
       "      <td>  0.000000</td>\n",
       "      <td>  0.148189</td>\n",
       "    </tr>\n",
       "    <tr>\n",
       "      <th>25%</th>\n",
       "      <td> 10.750000</td>\n",
       "      <td>  0.000000</td>\n",
       "      <td>  0.000000</td>\n",
       "      <td>  2.000000</td>\n",
       "      <td> -0.000000</td>\n",
       "      <td>  0.937455</td>\n",
       "      <td>  3.500000</td>\n",
       "      <td>  6.500000</td>\n",
       "      <td>  0.278769</td>\n",
       "    </tr>\n",
       "    <tr>\n",
       "      <th>50%</th>\n",
       "      <td> 19.500000</td>\n",
       "      <td>  0.000000</td>\n",
       "      <td>  0.000000</td>\n",
       "      <td>  2.000000</td>\n",
       "      <td>  1.203820</td>\n",
       "      <td>  1.295141</td>\n",
       "      <td>  6.000000</td>\n",
       "      <td>  8.500000</td>\n",
       "      <td>  0.439405</td>\n",
       "    </tr>\n",
       "    <tr>\n",
       "      <th>75%</th>\n",
       "      <td> 29.250000</td>\n",
       "      <td>  2.000000</td>\n",
       "      <td>  1.000000</td>\n",
       "      <td>  2.000000</td>\n",
       "      <td>  1.560825</td>\n",
       "      <td>  1.534184</td>\n",
       "      <td> 12.000000</td>\n",
       "      <td> 14.250000</td>\n",
       "      <td>  0.621204</td>\n",
       "    </tr>\n",
       "    <tr>\n",
       "      <th>max</th>\n",
       "      <td> 38.000000</td>\n",
       "      <td>  3.000000</td>\n",
       "      <td>  3.000000</td>\n",
       "      <td>  3.000000</td>\n",
       "      <td>  1.990765</td>\n",
       "      <td>  1.896140</td>\n",
       "      <td> 21.000000</td>\n",
       "      <td> 24.000000</td>\n",
       "      <td>  1.000000</td>\n",
       "    </tr>\n",
       "  </tbody>\n",
       "</table>\n",
       "</div>"
      ],
      "text/plain": [
       "            item  pred_combined   pred_rgb  pred_pcloud  entropy_rgb  \\\n",
       "count  36.000000      36.000000  36.000000    36.000000    36.000000   \n",
       "mean   19.972222       0.750000   0.555556     1.805556     0.960005   \n",
       "std    10.976562       1.105183   0.998411     0.980363     0.738291   \n",
       "min     2.000000       0.000000   0.000000     0.000000    -0.000000   \n",
       "25%    10.750000       0.000000   0.000000     2.000000    -0.000000   \n",
       "50%    19.500000       0.000000   0.000000     2.000000     1.203820   \n",
       "75%    29.250000       2.000000   1.000000     2.000000     1.560825   \n",
       "max    38.000000       3.000000   3.000000     3.000000     1.990765   \n",
       "\n",
       "       entropy_pcloud  margin_rgb  margin_pcloud        jsd  \n",
       "count       36.000000   24.000000      32.000000  36.000000  \n",
       "mean         1.158972    8.125000      10.156250   0.473451  \n",
       "std          0.551464    6.347286       6.555517   0.246514  \n",
       "min         -0.000000    0.000000       0.000000   0.148189  \n",
       "25%          0.937455    3.500000       6.500000   0.278769  \n",
       "50%          1.295141    6.000000       8.500000   0.439405  \n",
       "75%          1.534184   12.000000      14.250000   0.621204  \n",
       "max          1.896140   21.000000      24.000000   1.000000  "
      ]
     },
     "execution_count": 4,
     "metadata": {},
     "output_type": "execute_result"
    }
   ],
   "source": [
    "data.describe()"
   ]
  },
  {
   "cell_type": "code",
   "execution_count": 5,
   "metadata": {
    "collapsed": false
   },
   "outputs": [
    {
     "data": {
      "text/html": [
       "<div style=\"max-height:1000px;max-width:1500px;overflow:auto;\">\n",
       "<table border=\"1\" class=\"dataframe\">\n",
       "  <thead>\n",
       "    <tr style=\"text-align: right;\">\n",
       "      <th></th>\n",
       "      <th>y</th>\n",
       "      <th>pred_combined</th>\n",
       "    </tr>\n",
       "  </thead>\n",
       "  <tbody>\n",
       "    <tr>\n",
       "      <th>0</th>\n",
       "      <td> pelota</td>\n",
       "      <td> 0</td>\n",
       "    </tr>\n",
       "    <tr>\n",
       "      <th>1</th>\n",
       "      <td> pelota</td>\n",
       "      <td> 2</td>\n",
       "    </tr>\n",
       "    <tr>\n",
       "      <th>2</th>\n",
       "      <td> pelota</td>\n",
       "      <td> 2</td>\n",
       "    </tr>\n",
       "    <tr>\n",
       "      <th>3</th>\n",
       "      <td> pelota</td>\n",
       "      <td> 2</td>\n",
       "    </tr>\n",
       "    <tr>\n",
       "      <th>4</th>\n",
       "      <td> pelota</td>\n",
       "      <td> 0</td>\n",
       "    </tr>\n",
       "  </tbody>\n",
       "</table>\n",
       "</div>"
      ],
      "text/plain": [
       "        y  pred_combined\n",
       "0  pelota              0\n",
       "1  pelota              2\n",
       "2  pelota              2\n",
       "3  pelota              2\n",
       "4  pelota              0"
      ]
     },
     "execution_count": 5,
     "metadata": {},
     "output_type": "execute_result"
    }
   ],
   "source": [
    "data.ix[:, 1:3].head()"
   ]
  },
  {
   "cell_type": "code",
   "execution_count": 6,
   "metadata": {
    "collapsed": false
   },
   "outputs": [],
   "source": [
    "labels = data.y\n",
    "data.y = data.y.apply(lambda x: rcategories[x])"
   ]
  },
  {
   "cell_type": "code",
   "execution_count": 7,
   "metadata": {
    "collapsed": false,
    "scrolled": true
   },
   "outputs": [
    {
     "data": {
      "text/html": [
       "<div style=\"max-height:1000px;max-width:1500px;overflow:auto;\">\n",
       "<table border=\"1\" class=\"dataframe\">\n",
       "  <thead>\n",
       "    <tr style=\"text-align: right;\">\n",
       "      <th></th>\n",
       "      <th>0</th>\n",
       "      <th>1</th>\n",
       "      <th>2</th>\n",
       "      <th>3</th>\n",
       "      <th>4</th>\n",
       "      <th>5</th>\n",
       "      <th>6</th>\n",
       "      <th>7</th>\n",
       "      <th>8</th>\n",
       "      <th>9</th>\n",
       "      <th>...</th>\n",
       "      <th>26</th>\n",
       "      <th>27</th>\n",
       "      <th>28</th>\n",
       "      <th>29</th>\n",
       "      <th>30</th>\n",
       "      <th>31</th>\n",
       "      <th>32</th>\n",
       "      <th>33</th>\n",
       "      <th>34</th>\n",
       "      <th>35</th>\n",
       "    </tr>\n",
       "  </thead>\n",
       "  <tbody>\n",
       "    <tr>\n",
       "      <th>y</th>\n",
       "      <td> 0</td>\n",
       "      <td> 0</td>\n",
       "      <td> 0</td>\n",
       "      <td> 0</td>\n",
       "      <td> 0</td>\n",
       "      <td> 0</td>\n",
       "      <td> 3</td>\n",
       "      <td> 3</td>\n",
       "      <td> 3</td>\n",
       "      <td> 3</td>\n",
       "      <td>...</td>\n",
       "      <td> 1</td>\n",
       "      <td> 1</td>\n",
       "      <td> 2</td>\n",
       "      <td> 2</td>\n",
       "      <td> 2</td>\n",
       "      <td> 2</td>\n",
       "      <td> 2</td>\n",
       "      <td> 2</td>\n",
       "      <td> 2</td>\n",
       "      <td> 2</td>\n",
       "    </tr>\n",
       "    <tr>\n",
       "      <th>pred_combined</th>\n",
       "      <td> 0</td>\n",
       "      <td> 2</td>\n",
       "      <td> 2</td>\n",
       "      <td> 2</td>\n",
       "      <td> 0</td>\n",
       "      <td> 0</td>\n",
       "      <td> 0</td>\n",
       "      <td> 0</td>\n",
       "      <td> 0</td>\n",
       "      <td> 2</td>\n",
       "      <td>...</td>\n",
       "      <td> 1</td>\n",
       "      <td> 0</td>\n",
       "      <td> 0</td>\n",
       "      <td> 0</td>\n",
       "      <td> 1</td>\n",
       "      <td> 0</td>\n",
       "      <td> 1</td>\n",
       "      <td> 3</td>\n",
       "      <td> 3</td>\n",
       "      <td> 0</td>\n",
       "    </tr>\n",
       "  </tbody>\n",
       "</table>\n",
       "<p>2 rows × 36 columns</p>\n",
       "</div>"
      ],
      "text/plain": [
       "               0   1   2   3   4   5   6   7   8   9  ...  26  27  28  29  30  \\\n",
       "y               0   0   0   0   0   0   3   3   3   3 ...   1   1   2   2   2   \n",
       "pred_combined   0   2   2   2   0   0   0   0   0   2 ...   1   0   0   0   1   \n",
       "\n",
       "               31  32  33  34  35  \n",
       "y               2   2   2   2   2  \n",
       "pred_combined   0   1   3   3   0  \n",
       "\n",
       "[2 rows x 36 columns]"
      ]
     },
     "execution_count": 7,
     "metadata": {},
     "output_type": "execute_result"
    }
   ],
   "source": [
    "data.ix[:, 1:3].T"
   ]
  },
  {
   "cell_type": "markdown",
   "metadata": {},
   "source": [
    "#  Metrics"
   ]
  },
  {
   "cell_type": "markdown",
   "metadata": {},
   "source": [
    "## F1-Score and Accuracy"
   ]
  },
  {
   "cell_type": "code",
   "execution_count": 8,
   "metadata": {
    "collapsed": true
   },
   "outputs": [],
   "source": [
    "from sklearn.metrics import f1_score, accuracy_score"
   ]
  },
  {
   "cell_type": "code",
   "execution_count": 9,
   "metadata": {
    "collapsed": false
   },
   "outputs": [
    {
     "name": "stdout",
     "output_type": "stream",
     "text": [
      "Accuracy Combined: \t0.138888888889\n",
      "Accuracy RGB: \t\t0.194444444444\n",
      "Accuracy PCloud: \t0.166666666667\n"
     ]
    }
   ],
   "source": [
    "print \"Accuracy Combined: \\t\", accuracy_score(data.y, data.pred_combined)\n",
    "print \"Accuracy RGB: \\t\\t\", accuracy_score(data.y, data.pred_rgb)\n",
    "print \"Accuracy PCloud: \\t\", accuracy_score(data.y, data.pred_pcloud)"
   ]
  },
  {
   "cell_type": "code",
   "execution_count": 10,
   "metadata": {
    "collapsed": false
   },
   "outputs": [
    {
     "name": "stdout",
     "output_type": "stream",
     "text": [
      "F1 Combined: \t0.117231296632\n",
      "F1 RGB: \t0.14669946164\n",
      "F1 PCloud: \t0.145843045843\n"
     ]
    },
    {
     "name": "stderr",
     "output_type": "stream",
     "text": [
      "/usr/local/lib/python2.7/dist-packages/sklearn/metrics/classification.py:676: DeprecationWarning: The default `weighted` averaging is deprecated, and from version 0.18, use of precision, recall or F-score with multiclass or multilabel data or pos_label=None will result in an exception. Please set an explicit value for `average`, one of (None, 'micro', 'macro', 'weighted', 'samples'). In cross validation use, for instance, scoring=\"f1_weighted\" instead of scoring=\"f1\".\n",
      "  sample_weight=sample_weight)\n",
      "/usr/local/lib/python2.7/dist-packages/sklearn/metrics/classification.py:676: DeprecationWarning: The default `weighted` averaging is deprecated, and from version 0.18, use of precision, recall or F-score with multiclass or multilabel data or pos_label=None will result in an exception. Please set an explicit value for `average`, one of (None, 'micro', 'macro', 'weighted', 'samples'). In cross validation use, for instance, scoring=\"f1_weighted\" instead of scoring=\"f1\".\n",
      "  sample_weight=sample_weight)\n",
      "/usr/local/lib/python2.7/dist-packages/sklearn/metrics/classification.py:676: DeprecationWarning: The default `weighted` averaging is deprecated, and from version 0.18, use of precision, recall or F-score with multiclass or multilabel data or pos_label=None will result in an exception. Please set an explicit value for `average`, one of (None, 'micro', 'macro', 'weighted', 'samples'). In cross validation use, for instance, scoring=\"f1_weighted\" instead of scoring=\"f1\".\n",
      "  sample_weight=sample_weight)\n",
      "/usr/local/lib/python2.7/dist-packages/sklearn/metrics/classification.py:958: UndefinedMetricWarning: F-score is ill-defined and being set to 0.0 in labels with no predicted samples.\n",
      "  'precision', 'predicted', average, warn_for)\n"
     ]
    }
   ],
   "source": [
    "print \"F1 Combined: \\t\", f1_score(data.y, data.pred_combined)\n",
    "print \"F1 RGB: \\t\", f1_score(data.y, data.pred_rgb)\n",
    "print \"F1 PCloud: \\t\", f1_score(data.y, data.pred_pcloud)"
   ]
  },
  {
   "cell_type": "markdown",
   "metadata": {},
   "source": [
    "## Confusion Matrix"
   ]
  },
  {
   "cell_type": "code",
   "execution_count": 11,
   "metadata": {
    "collapsed": true
   },
   "outputs": [],
   "source": [
    "from sklearn.metrics import confusion_matrix"
   ]
  },
  {
   "cell_type": "code",
   "execution_count": 12,
   "metadata": {
    "collapsed": false
   },
   "outputs": [
    {
     "data": {
      "text/plain": [
       "array([[ 3,  0,  3,  0],\n",
       "       [ 3,  1,  2,  1],\n",
       "       [ 4,  2,  0,  2],\n",
       "       [13,  0,  1,  1]])"
      ]
     },
     "execution_count": 12,
     "metadata": {},
     "output_type": "execute_result"
    }
   ],
   "source": [
    "cmat = confusion_matrix(data.y, data.pred_combined)\n",
    "cmat"
   ]
  },
  {
   "cell_type": "code",
   "execution_count": 13,
   "metadata": {
    "collapsed": true
   },
   "outputs": [],
   "source": [
    "catnames = ['pelota', 'perro', 'taza', 'tractor']"
   ]
  },
  {
   "cell_type": "code",
   "execution_count": 14,
   "metadata": {
    "collapsed": false
   },
   "outputs": [
    {
     "data": {
      "text/html": [
       "<div style=\"max-height:1000px;max-width:1500px;overflow:auto;\">\n",
       "<table border=\"1\" class=\"dataframe\">\n",
       "  <thead>\n",
       "    <tr style=\"text-align: right;\">\n",
       "      <th></th>\n",
       "      <th>pelota</th>\n",
       "      <th>perro</th>\n",
       "      <th>taza</th>\n",
       "      <th>tractor</th>\n",
       "    </tr>\n",
       "  </thead>\n",
       "  <tbody>\n",
       "    <tr>\n",
       "      <th>pelota</th>\n",
       "      <td>  3</td>\n",
       "      <td> 0</td>\n",
       "      <td> 3</td>\n",
       "      <td> 0</td>\n",
       "    </tr>\n",
       "    <tr>\n",
       "      <th>perro</th>\n",
       "      <td>  3</td>\n",
       "      <td> 1</td>\n",
       "      <td> 2</td>\n",
       "      <td> 1</td>\n",
       "    </tr>\n",
       "    <tr>\n",
       "      <th>taza</th>\n",
       "      <td>  4</td>\n",
       "      <td> 2</td>\n",
       "      <td> 0</td>\n",
       "      <td> 2</td>\n",
       "    </tr>\n",
       "    <tr>\n",
       "      <th>tractor</th>\n",
       "      <td> 13</td>\n",
       "      <td> 0</td>\n",
       "      <td> 1</td>\n",
       "      <td> 1</td>\n",
       "    </tr>\n",
       "  </tbody>\n",
       "</table>\n",
       "</div>"
      ],
      "text/plain": [
       "         pelota  perro  taza  tractor\n",
       "pelota        3      0     3        0\n",
       "perro         3      1     2        1\n",
       "taza          4      2     0        2\n",
       "tractor      13      0     1        1"
      ]
     },
     "execution_count": 14,
     "metadata": {},
     "output_type": "execute_result"
    }
   ],
   "source": [
    "pcm = pd.DataFrame(cmat, index=catnames, columns=catnames)\n",
    "pcm"
   ]
  },
  {
   "cell_type": "markdown",
   "metadata": {},
   "source": [
    "##  Normalized Confusion Matrix"
   ]
  },
  {
   "cell_type": "code",
   "execution_count": 48,
   "metadata": {
    "collapsed": false
   },
   "outputs": [
    {
     "data": {
      "text/plain": [
       "array([[ 0.5       ,  0.        ,  0.5       ,  0.        ],\n",
       "       [ 0.42857143,  0.14285714,  0.28571429,  0.14285714],\n",
       "       [ 0.5       ,  0.25      ,  0.        ,  0.25      ],\n",
       "       [ 0.86666667,  0.        ,  0.06666667,  0.06666667]])"
      ]
     },
     "execution_count": 48,
     "metadata": {},
     "output_type": "execute_result"
    }
   ],
   "source": [
    "normalized = np.zeros([4,4])\n",
    "for index, row in enumerate(cmat):\n",
    "    normalized[index] = np.true_divide(row, sum(row))\n",
    "normalized"
   ]
  },
  {
   "cell_type": "code",
   "execution_count": 60,
   "metadata": {
    "collapsed": false
   },
   "outputs": [
    {
     "data": {
      "text/html": [
       "<div style=\"max-height:1000px;max-width:1500px;overflow:auto;\">\n",
       "<table border=\"1\" class=\"dataframe\">\n",
       "  <thead>\n",
       "    <tr style=\"text-align: right;\">\n",
       "      <th></th>\n",
       "      <th>pelota</th>\n",
       "      <th>perro</th>\n",
       "      <th>taza</th>\n",
       "      <th>tractor</th>\n",
       "    </tr>\n",
       "  </thead>\n",
       "  <tbody>\n",
       "    <tr>\n",
       "      <th>pelota</th>\n",
       "      <td> 0.50</td>\n",
       "      <td> 0.00</td>\n",
       "      <td> 0.50</td>\n",
       "      <td> 0.00</td>\n",
       "    </tr>\n",
       "    <tr>\n",
       "      <th>perro</th>\n",
       "      <td> 0.43</td>\n",
       "      <td> 0.14</td>\n",
       "      <td> 0.29</td>\n",
       "      <td> 0.14</td>\n",
       "    </tr>\n",
       "    <tr>\n",
       "      <th>taza</th>\n",
       "      <td> 0.50</td>\n",
       "      <td> 0.25</td>\n",
       "      <td> 0.00</td>\n",
       "      <td> 0.25</td>\n",
       "    </tr>\n",
       "    <tr>\n",
       "      <th>tractor</th>\n",
       "      <td> 0.87</td>\n",
       "      <td> 0.00</td>\n",
       "      <td> 0.07</td>\n",
       "      <td> 0.07</td>\n",
       "    </tr>\n",
       "  </tbody>\n",
       "</table>\n",
       "</div>"
      ],
      "text/plain": [
       "         pelota  perro  taza  tractor\n",
       "pelota     0.50   0.00  0.50     0.00\n",
       "perro      0.43   0.14  0.29     0.14\n",
       "taza       0.50   0.25  0.00     0.25\n",
       "tractor    0.87   0.00  0.07     0.07"
      ]
     },
     "execution_count": 60,
     "metadata": {},
     "output_type": "execute_result"
    }
   ],
   "source": [
    "cm_normalized = pd.DataFrame(normalized, index=catnames, columns=catnames)\n",
    "cm_normalized = cm_normalized.apply(np.round, args=(2,))\n",
    "cm_normalized"
   ]
  },
  {
   "cell_type": "code",
   "execution_count": 62,
   "metadata": {
    "collapsed": false
   },
   "outputs": [
    {
     "data": {
      "text/plain": [
       "0.17749999999999999"
      ]
     },
     "execution_count": 62,
     "metadata": {},
     "output_type": "execute_result"
    }
   ],
   "source": [
    "cm_normalized.values.diagonal().mean()"
   ]
  },
  {
   "cell_type": "code",
   "execution_count": null,
   "metadata": {
    "collapsed": true
   },
   "outputs": [],
   "source": []
  }
 ],
 "metadata": {
  "kernelspec": {
   "display_name": "Python 2",
   "language": "python",
   "name": "python2"
  },
  "language_info": {
   "codemirror_mode": {
    "name": "ipython",
    "version": 2
   },
   "file_extension": ".py",
   "mimetype": "text/x-python",
   "name": "python",
   "nbconvert_exporter": "python",
   "pygments_lexer": "ipython2",
   "version": "2.7.3"
  }
 },
 "nbformat": 4,
 "nbformat_minor": 0
}
