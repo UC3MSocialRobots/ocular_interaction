{
 "cells": [
  {
   "cell_type": "code",
   "execution_count": 1,
   "metadata": {
    "collapsed": false
   },
   "outputs": [
    {
     "name": "stdout",
     "output_type": "stream",
     "text": [
      "Populating the interactive namespace from numpy and matplotlib\n"
     ]
    }
   ],
   "source": [
    "from __future__ import division\n",
    "import numpy as np\n",
    "import pandas as pd\n",
    "\n",
    "%pylab inline"
   ]
  },
  {
   "cell_type": "code",
   "execution_count": 2,
   "metadata": {
    "collapsed": false
   },
   "outputs": [],
   "source": [
    "categories = {0: 'pelota', 1: 'perro', 2: 'taza', 3: 'tractor'}\n",
    "#rcategories = {v: k for (k, v) in categories}\n",
    "rcategories = {'pelota': 0, 'perro': 1, 'taza': 2, 'tractor': 3}"
   ]
  },
  {
   "cell_type": "code",
   "execution_count": 3,
   "metadata": {
    "collapsed": false
   },
   "outputs": [],
   "source": [
    "\n",
    "data = pd.read_csv('../data/summary_data.csv')"
   ]
  },
  {
   "cell_type": "code",
   "execution_count": 4,
   "metadata": {
    "collapsed": false
   },
   "outputs": [
    {
     "data": {
      "text/html": [
       "<div style=\"max-height:1000px;max-width:1500px;overflow:auto;\">\n",
       "<table border=\"1\" class=\"dataframe\">\n",
       "  <thead>\n",
       "    <tr style=\"text-align: right;\">\n",
       "      <th></th>\n",
       "      <th>item</th>\n",
       "      <th>pred_combined</th>\n",
       "      <th>pred_rgb</th>\n",
       "      <th>pred_pcloud</th>\n",
       "      <th>entropy_rgb</th>\n",
       "      <th>entropy_pcloud</th>\n",
       "      <th>margin_rgb</th>\n",
       "      <th>margin_pcloud</th>\n",
       "      <th>jsd</th>\n",
       "    </tr>\n",
       "  </thead>\n",
       "  <tbody>\n",
       "    <tr>\n",
       "      <th>count</th>\n",
       "      <td> 38.000000</td>\n",
       "      <td> 38.000000</td>\n",
       "      <td> 38.000000</td>\n",
       "      <td> 38.000000</td>\n",
       "      <td> 38.000000</td>\n",
       "      <td> 38.000000</td>\n",
       "      <td> 28.000000</td>\n",
       "      <td> 34.000000</td>\n",
       "      <td> 38.000000</td>\n",
       "    </tr>\n",
       "    <tr>\n",
       "      <th>mean</th>\n",
       "      <td> 18.500000</td>\n",
       "      <td>  1.526316</td>\n",
       "      <td>  1.657895</td>\n",
       "      <td>  1.210526</td>\n",
       "      <td>  0.654488</td>\n",
       "      <td>  1.250784</td>\n",
       "      <td> 16.571429</td>\n",
       "      <td>  8.823529</td>\n",
       "      <td>  0.467272</td>\n",
       "    </tr>\n",
       "    <tr>\n",
       "      <th>std</th>\n",
       "      <td> 11.113055</td>\n",
       "      <td>  1.032887</td>\n",
       "      <td>  0.937977</td>\n",
       "      <td>  1.118829</td>\n",
       "      <td>  0.585092</td>\n",
       "      <td>  0.550188</td>\n",
       "      <td>  8.288451</td>\n",
       "      <td>  5.900542</td>\n",
       "      <td>  0.211509</td>\n",
       "    </tr>\n",
       "    <tr>\n",
       "      <th>min</th>\n",
       "      <td>  0.000000</td>\n",
       "      <td>  0.000000</td>\n",
       "      <td>  0.000000</td>\n",
       "      <td>  0.000000</td>\n",
       "      <td> -0.000000</td>\n",
       "      <td> -0.000000</td>\n",
       "      <td>  1.000000</td>\n",
       "      <td>  1.000000</td>\n",
       "      <td>  0.003852</td>\n",
       "    </tr>\n",
       "    <tr>\n",
       "      <th>25%</th>\n",
       "      <td>  9.250000</td>\n",
       "      <td>  1.000000</td>\n",
       "      <td>  1.000000</td>\n",
       "      <td>  0.000000</td>\n",
       "      <td>  0.052711</td>\n",
       "      <td>  1.062525</td>\n",
       "      <td>  9.750000</td>\n",
       "      <td>  4.000000</td>\n",
       "      <td>  0.328821</td>\n",
       "    </tr>\n",
       "    <tr>\n",
       "      <th>50%</th>\n",
       "      <td> 18.500000</td>\n",
       "      <td>  1.000000</td>\n",
       "      <td>  1.500000</td>\n",
       "      <td>  1.000000</td>\n",
       "      <td>  0.559509</td>\n",
       "      <td>  1.289038</td>\n",
       "      <td> 16.000000</td>\n",
       "      <td>  7.000000</td>\n",
       "      <td>  0.462371</td>\n",
       "    </tr>\n",
       "    <tr>\n",
       "      <th>75%</th>\n",
       "      <td> 27.750000</td>\n",
       "      <td>  2.000000</td>\n",
       "      <td>  2.000000</td>\n",
       "      <td>  2.000000</td>\n",
       "      <td>  1.094880</td>\n",
       "      <td>  1.585963</td>\n",
       "      <td> 26.000000</td>\n",
       "      <td> 14.000000</td>\n",
       "      <td>  0.627871</td>\n",
       "    </tr>\n",
       "    <tr>\n",
       "      <th>max</th>\n",
       "      <td> 37.000000</td>\n",
       "      <td>  3.000000</td>\n",
       "      <td>  3.000000</td>\n",
       "      <td>  3.000000</td>\n",
       "      <td>  1.879936</td>\n",
       "      <td>  2.004310</td>\n",
       "      <td> 28.000000</td>\n",
       "      <td> 21.000000</td>\n",
       "      <td>  1.000000</td>\n",
       "    </tr>\n",
       "  </tbody>\n",
       "</table>\n",
       "</div>"
      ],
      "text/plain": [
       "            item  pred_combined   pred_rgb  pred_pcloud  entropy_rgb  \\\n",
       "count  38.000000      38.000000  38.000000    38.000000    38.000000   \n",
       "mean   18.500000       1.526316   1.657895     1.210526     0.654488   \n",
       "std    11.113055       1.032887   0.937977     1.118829     0.585092   \n",
       "min     0.000000       0.000000   0.000000     0.000000    -0.000000   \n",
       "25%     9.250000       1.000000   1.000000     0.000000     0.052711   \n",
       "50%    18.500000       1.000000   1.500000     1.000000     0.559509   \n",
       "75%    27.750000       2.000000   2.000000     2.000000     1.094880   \n",
       "max    37.000000       3.000000   3.000000     3.000000     1.879936   \n",
       "\n",
       "       entropy_pcloud  margin_rgb  margin_pcloud        jsd  \n",
       "count       38.000000   28.000000      34.000000  38.000000  \n",
       "mean         1.250784   16.571429       8.823529   0.467272  \n",
       "std          0.550188    8.288451       5.900542   0.211509  \n",
       "min         -0.000000    1.000000       1.000000   0.003852  \n",
       "25%          1.062525    9.750000       4.000000   0.328821  \n",
       "50%          1.289038   16.000000       7.000000   0.462371  \n",
       "75%          1.585963   26.000000      14.000000   0.627871  \n",
       "max          2.004310   28.000000      21.000000   1.000000  "
      ]
     },
     "execution_count": 4,
     "metadata": {},
     "output_type": "execute_result"
    }
   ],
   "source": [
    "data.describe()"
   ]
  },
  {
   "cell_type": "code",
   "execution_count": 5,
   "metadata": {
    "collapsed": false
   },
   "outputs": [
    {
     "data": {
      "text/html": [
       "<div style=\"max-height:1000px;max-width:1500px;overflow:auto;\">\n",
       "<table border=\"1\" class=\"dataframe\">\n",
       "  <thead>\n",
       "    <tr style=\"text-align: right;\">\n",
       "      <th></th>\n",
       "      <th>y</th>\n",
       "      <th>pred_combined</th>\n",
       "    </tr>\n",
       "  </thead>\n",
       "  <tbody>\n",
       "    <tr>\n",
       "      <th>0</th>\n",
       "      <td> pelota</td>\n",
       "      <td> 2</td>\n",
       "    </tr>\n",
       "    <tr>\n",
       "      <th>1</th>\n",
       "      <td> pelota</td>\n",
       "      <td> 2</td>\n",
       "    </tr>\n",
       "    <tr>\n",
       "      <th>2</th>\n",
       "      <td> pelota</td>\n",
       "      <td> 2</td>\n",
       "    </tr>\n",
       "    <tr>\n",
       "      <th>3</th>\n",
       "      <td> pelota</td>\n",
       "      <td> 0</td>\n",
       "    </tr>\n",
       "    <tr>\n",
       "      <th>4</th>\n",
       "      <td> pelota</td>\n",
       "      <td> 0</td>\n",
       "    </tr>\n",
       "  </tbody>\n",
       "</table>\n",
       "</div>"
      ],
      "text/plain": [
       "        y  pred_combined\n",
       "0  pelota              2\n",
       "1  pelota              2\n",
       "2  pelota              2\n",
       "3  pelota              0\n",
       "4  pelota              0"
      ]
     },
     "execution_count": 5,
     "metadata": {},
     "output_type": "execute_result"
    }
   ],
   "source": [
    "data.ix[:, 1:3].head()"
   ]
  },
  {
   "cell_type": "code",
   "execution_count": 6,
   "metadata": {
    "collapsed": false
   },
   "outputs": [],
   "source": [
    "labels = data.y\n",
    "data.y = data.y.apply(lambda x: rcategories[x])"
   ]
  },
  {
   "cell_type": "code",
   "execution_count": 7,
   "metadata": {
    "collapsed": false,
    "scrolled": true
   },
   "outputs": [
    {
     "data": {
      "text/html": [
       "<div style=\"max-height:1000px;max-width:1500px;overflow:auto;\">\n",
       "<table border=\"1\" class=\"dataframe\">\n",
       "  <thead>\n",
       "    <tr style=\"text-align: right;\">\n",
       "      <th></th>\n",
       "      <th>0</th>\n",
       "      <th>1</th>\n",
       "      <th>2</th>\n",
       "      <th>3</th>\n",
       "      <th>4</th>\n",
       "      <th>5</th>\n",
       "      <th>6</th>\n",
       "      <th>7</th>\n",
       "      <th>8</th>\n",
       "      <th>9</th>\n",
       "      <th>...</th>\n",
       "      <th>28</th>\n",
       "      <th>29</th>\n",
       "      <th>30</th>\n",
       "      <th>31</th>\n",
       "      <th>32</th>\n",
       "      <th>33</th>\n",
       "      <th>34</th>\n",
       "      <th>35</th>\n",
       "      <th>36</th>\n",
       "      <th>37</th>\n",
       "    </tr>\n",
       "  </thead>\n",
       "  <tbody>\n",
       "    <tr>\n",
       "      <th>y</th>\n",
       "      <td> 0</td>\n",
       "      <td> 0</td>\n",
       "      <td> 0</td>\n",
       "      <td> 0</td>\n",
       "      <td> 0</td>\n",
       "      <td> 1</td>\n",
       "      <td> 1</td>\n",
       "      <td> 1</td>\n",
       "      <td> 1</td>\n",
       "      <td> 1</td>\n",
       "      <td>...</td>\n",
       "      <td> 3</td>\n",
       "      <td> 3</td>\n",
       "      <td> 2</td>\n",
       "      <td> 2</td>\n",
       "      <td> 2</td>\n",
       "      <td> 2</td>\n",
       "      <td> 2</td>\n",
       "      <td> 2</td>\n",
       "      <td> 2</td>\n",
       "      <td> 2</td>\n",
       "    </tr>\n",
       "    <tr>\n",
       "      <th>pred_combined</th>\n",
       "      <td> 2</td>\n",
       "      <td> 2</td>\n",
       "      <td> 2</td>\n",
       "      <td> 0</td>\n",
       "      <td> 0</td>\n",
       "      <td> 1</td>\n",
       "      <td> 1</td>\n",
       "      <td> 1</td>\n",
       "      <td> 1</td>\n",
       "      <td> 1</td>\n",
       "      <td>...</td>\n",
       "      <td> 3</td>\n",
       "      <td> 0</td>\n",
       "      <td> 2</td>\n",
       "      <td> 0</td>\n",
       "      <td> 0</td>\n",
       "      <td> 2</td>\n",
       "      <td> 2</td>\n",
       "      <td> 2</td>\n",
       "      <td> 2</td>\n",
       "      <td> 0</td>\n",
       "    </tr>\n",
       "  </tbody>\n",
       "</table>\n",
       "<p>2 rows × 38 columns</p>\n",
       "</div>"
      ],
      "text/plain": [
       "               0   1   2   3   4   5   6   7   8   9  ...  28  29  30  31  32  \\\n",
       "y               0   0   0   0   0   1   1   1   1   1 ...   3   3   2   2   2   \n",
       "pred_combined   2   2   2   0   0   1   1   1   1   1 ...   3   0   2   0   0   \n",
       "\n",
       "               33  34  35  36  37  \n",
       "y               2   2   2   2   2  \n",
       "pred_combined   2   2   2   2   0  \n",
       "\n",
       "[2 rows x 38 columns]"
      ]
     },
     "execution_count": 7,
     "metadata": {},
     "output_type": "execute_result"
    }
   ],
   "source": [
    "data.ix[:, 1:3].T"
   ]
  },
  {
   "cell_type": "markdown",
   "metadata": {},
   "source": [
    "#  Metrics"
   ]
  },
  {
   "cell_type": "markdown",
   "metadata": {},
   "source": [
    "## F1-Score and Accuracy"
   ]
  },
  {
   "cell_type": "code",
   "execution_count": 8,
   "metadata": {
    "collapsed": true
   },
   "outputs": [],
   "source": [
    "from sklearn.metrics import f1_score, accuracy_score"
   ]
  },
  {
   "cell_type": "code",
   "execution_count": 9,
   "metadata": {
    "collapsed": false
   },
   "outputs": [
    {
     "name": "stdout",
     "output_type": "stream",
     "text": [
      "Accuracy Combined: \t0.815789473684\n",
      "Accuracy RGB: \t\t0.763157894737\n",
      "Accuracy PCloud: \t0.289473684211\n"
     ]
    }
   ],
   "source": [
    "print \"Accuracy Combined: \\t\", accuracy_score(data.y, data.pred_combined)\n",
    "print \"Accuracy RGB: \\t\\t\", accuracy_score(data.y, data.pred_rgb)\n",
    "print \"Accuracy PCloud: \\t\", accuracy_score(data.y, data.pred_pcloud)"
   ]
  },
  {
   "cell_type": "code",
   "execution_count": 10,
   "metadata": {
    "collapsed": false
   },
   "outputs": [
    {
     "name": "stdout",
     "output_type": "stream",
     "text": [
      "F1 Combined: \t0.82347015865\n",
      "F1 RGB: \t0.748269939138\n",
      "F1 PCloud: \t0.256467741362\n"
     ]
    },
    {
     "name": "stderr",
     "output_type": "stream",
     "text": [
      "/usr/local/lib/python2.7/dist-packages/sklearn/metrics/classification.py:676: DeprecationWarning: The default `weighted` averaging is deprecated, and from version 0.18, use of precision, recall or F-score with multiclass or multilabel data or pos_label=None will result in an exception. Please set an explicit value for `average`, one of (None, 'micro', 'macro', 'weighted', 'samples'). In cross validation use, for instance, scoring=\"f1_weighted\" instead of scoring=\"f1\".\n",
      "  sample_weight=sample_weight)\n",
      "/usr/local/lib/python2.7/dist-packages/sklearn/metrics/classification.py:676: DeprecationWarning: The default `weighted` averaging is deprecated, and from version 0.18, use of precision, recall or F-score with multiclass or multilabel data or pos_label=None will result in an exception. Please set an explicit value for `average`, one of (None, 'micro', 'macro', 'weighted', 'samples'). In cross validation use, for instance, scoring=\"f1_weighted\" instead of scoring=\"f1\".\n",
      "  sample_weight=sample_weight)\n",
      "/usr/local/lib/python2.7/dist-packages/sklearn/metrics/classification.py:676: DeprecationWarning: The default `weighted` averaging is deprecated, and from version 0.18, use of precision, recall or F-score with multiclass or multilabel data or pos_label=None will result in an exception. Please set an explicit value for `average`, one of (None, 'micro', 'macro', 'weighted', 'samples'). In cross validation use, for instance, scoring=\"f1_weighted\" instead of scoring=\"f1\".\n",
      "  sample_weight=sample_weight)\n"
     ]
    }
   ],
   "source": [
    "print \"F1 Combined: \\t\", f1_score(data.y, data.pred_combined)\n",
    "print \"F1 RGB: \\t\", f1_score(data.y, data.pred_rgb)\n",
    "print \"F1 PCloud: \\t\", f1_score(data.y, data.pred_pcloud)"
   ]
  },
  {
   "cell_type": "markdown",
   "metadata": {},
   "source": [
    "## Confusion Matrix"
   ]
  },
  {
   "cell_type": "code",
   "execution_count": 11,
   "metadata": {
    "collapsed": true
   },
   "outputs": [],
   "source": [
    "from sklearn.metrics import confusion_matrix"
   ]
  },
  {
   "cell_type": "code",
   "execution_count": 12,
   "metadata": {
    "collapsed": false
   },
   "outputs": [
    {
     "data": {
      "text/plain": [
       "array([[ 2,  0,  3,  0],\n",
       "       [ 0, 15,  0,  0],\n",
       "       [ 3,  0,  5,  0],\n",
       "       [ 1,  0,  0,  9]])"
      ]
     },
     "execution_count": 12,
     "metadata": {},
     "output_type": "execute_result"
    }
   ],
   "source": [
    "cmat = confusion_matrix(data.y, data.pred_combined)\n",
    "cmat"
   ]
  },
  {
   "cell_type": "code",
   "execution_count": 13,
   "metadata": {
    "collapsed": true
   },
   "outputs": [],
   "source": [
    "catnames = ['pelota', 'perro', 'taza', 'tractor']"
   ]
  },
  {
   "cell_type": "code",
   "execution_count": 14,
   "metadata": {
    "collapsed": false
   },
   "outputs": [
    {
     "data": {
      "text/html": [
       "<div style=\"max-height:1000px;max-width:1500px;overflow:auto;\">\n",
       "<table border=\"1\" class=\"dataframe\">\n",
       "  <thead>\n",
       "    <tr style=\"text-align: right;\">\n",
       "      <th></th>\n",
       "      <th>pelota</th>\n",
       "      <th>perro</th>\n",
       "      <th>taza</th>\n",
       "      <th>tractor</th>\n",
       "    </tr>\n",
       "  </thead>\n",
       "  <tbody>\n",
       "    <tr>\n",
       "      <th>pelota</th>\n",
       "      <td> 2</td>\n",
       "      <td>  0</td>\n",
       "      <td> 3</td>\n",
       "      <td> 0</td>\n",
       "    </tr>\n",
       "    <tr>\n",
       "      <th>perro</th>\n",
       "      <td> 0</td>\n",
       "      <td> 15</td>\n",
       "      <td> 0</td>\n",
       "      <td> 0</td>\n",
       "    </tr>\n",
       "    <tr>\n",
       "      <th>taza</th>\n",
       "      <td> 3</td>\n",
       "      <td>  0</td>\n",
       "      <td> 5</td>\n",
       "      <td> 0</td>\n",
       "    </tr>\n",
       "    <tr>\n",
       "      <th>tractor</th>\n",
       "      <td> 1</td>\n",
       "      <td>  0</td>\n",
       "      <td> 0</td>\n",
       "      <td> 9</td>\n",
       "    </tr>\n",
       "  </tbody>\n",
       "</table>\n",
       "</div>"
      ],
      "text/plain": [
       "         pelota  perro  taza  tractor\n",
       "pelota        2      0     3        0\n",
       "perro         0     15     0        0\n",
       "taza          3      0     5        0\n",
       "tractor       1      0     0        9"
      ]
     },
     "execution_count": 14,
     "metadata": {},
     "output_type": "execute_result"
    }
   ],
   "source": [
    "pcm = pd.DataFrame(cmat, index=catnames, columns=catnames)\n",
    "pcm"
   ]
  },
  {
   "cell_type": "markdown",
   "metadata": {},
   "source": [
    "##  Normalized Confusion Matrix"
   ]
  },
  {
   "cell_type": "code",
   "execution_count": 15,
   "metadata": {
    "collapsed": false
   },
   "outputs": [
    {
     "data": {
      "text/plain": [
       "array([[ 0.4  ,  0.   ,  0.6  ,  0.   ],\n",
       "       [ 0.   ,  1.   ,  0.   ,  0.   ],\n",
       "       [ 0.375,  0.   ,  0.625,  0.   ],\n",
       "       [ 0.1  ,  0.   ,  0.   ,  0.9  ]])"
      ]
     },
     "execution_count": 15,
     "metadata": {},
     "output_type": "execute_result"
    }
   ],
   "source": [
    "normalized = np.zeros([4,4])\n",
    "for index, row in enumerate(cmat):\n",
    "    normalized[index] = np.true_divide(row, sum(row))\n",
    "normalized"
   ]
  },
  {
   "cell_type": "code",
   "execution_count": 16,
   "metadata": {
    "collapsed": false
   },
   "outputs": [
    {
     "data": {
      "text/html": [
       "<div style=\"max-height:1000px;max-width:1500px;overflow:auto;\">\n",
       "<table border=\"1\" class=\"dataframe\">\n",
       "  <thead>\n",
       "    <tr style=\"text-align: right;\">\n",
       "      <th></th>\n",
       "      <th>pelota</th>\n",
       "      <th>perro</th>\n",
       "      <th>taza</th>\n",
       "      <th>tractor</th>\n",
       "    </tr>\n",
       "  </thead>\n",
       "  <tbody>\n",
       "    <tr>\n",
       "      <th>pelota</th>\n",
       "      <td> 0.40</td>\n",
       "      <td> 0</td>\n",
       "      <td> 0.60</td>\n",
       "      <td> 0.0</td>\n",
       "    </tr>\n",
       "    <tr>\n",
       "      <th>perro</th>\n",
       "      <td> 0.00</td>\n",
       "      <td> 1</td>\n",
       "      <td> 0.00</td>\n",
       "      <td> 0.0</td>\n",
       "    </tr>\n",
       "    <tr>\n",
       "      <th>taza</th>\n",
       "      <td> 0.38</td>\n",
       "      <td> 0</td>\n",
       "      <td> 0.62</td>\n",
       "      <td> 0.0</td>\n",
       "    </tr>\n",
       "    <tr>\n",
       "      <th>tractor</th>\n",
       "      <td> 0.10</td>\n",
       "      <td> 0</td>\n",
       "      <td> 0.00</td>\n",
       "      <td> 0.9</td>\n",
       "    </tr>\n",
       "  </tbody>\n",
       "</table>\n",
       "</div>"
      ],
      "text/plain": [
       "         pelota  perro  taza  tractor\n",
       "pelota     0.40      0  0.60      0.0\n",
       "perro      0.00      1  0.00      0.0\n",
       "taza       0.38      0  0.62      0.0\n",
       "tractor    0.10      0  0.00      0.9"
      ]
     },
     "execution_count": 16,
     "metadata": {},
     "output_type": "execute_result"
    }
   ],
   "source": [
    "cm_normalized = pd.DataFrame(normalized, index=catnames, columns=catnames)\n",
    "cm_normalized = cm_normalized.apply(np.round, args=(2,))\n",
    "cm_normalized"
   ]
  },
  {
   "cell_type": "code",
   "execution_count": 17,
   "metadata": {
    "collapsed": false
   },
   "outputs": [
    {
     "data": {
      "text/plain": [
       "0.72999999999999998"
      ]
     },
     "execution_count": 17,
     "metadata": {},
     "output_type": "execute_result"
    }
   ],
   "source": [
    "cm_normalized.values.diagonal().mean()"
   ]
  },
  {
   "cell_type": "code",
   "execution_count": 18,
   "metadata": {
    "collapsed": true
   },
   "outputs": [],
   "source": [
    "from sklearn.metrics import precision_score, recall_score"
   ]
  },
  {
   "cell_type": "code",
   "execution_count": null,
   "metadata": {
    "collapsed": true
   },
   "outputs": [],
   "source": []
  }
 ],
 "metadata": {
  "kernelspec": {
   "display_name": "Python 2",
   "language": "python",
   "name": "python2"
  },
  "language_info": {
   "codemirror_mode": {
    "name": "ipython",
    "version": 2
   },
   "file_extension": ".py",
   "mimetype": "text/x-python",
   "name": "python",
   "nbconvert_exporter": "python",
   "pygments_lexer": "ipython2",
   "version": "2.7.3"
  }
 },
 "nbformat": 4,
 "nbformat_minor": 0
}
